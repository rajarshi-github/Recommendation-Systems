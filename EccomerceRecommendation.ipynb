{
 "cells": [
  {
   "cell_type": "code",
   "execution_count": 8,
   "metadata": {},
   "outputs": [],
   "source": [
    "import pandas as pd\n",
    "import matplotlib.pyplot as plt\n",
    "import numpy as np\n",
    "import seaborn as sns\n",
    "import re\n",
    "\n",
    "from scipy.sparse import csr_matrix\n",
    "from sklearn.preprocessing import MinMaxScaler, StandardScaler\n",
    "\n",
    "from sklearn.neighbors import NearestNeighbors"
   ]
  },
  {
   "cell_type": "code",
   "execution_count": 402,
   "metadata": {},
   "outputs": [],
   "source": [
    "from scipy.spatial.distance import euclidean\n",
    "\n",
    "from scipy.spatial.distance import cosine"
   ]
  },
  {
   "cell_type": "code",
   "execution_count": 2,
   "metadata": {},
   "outputs": [],
   "source": [
    "#load the dataset into pandas dataframe\n",
    "dfProducts = pd.read_csv('/Users/rpghosh/python-examples/reward360/data/products.csv', header=None)\n",
    "dfTxn = pd.read_csv('/Users/rpghosh/python-examples/reward360/data/txn.csv')"
   ]
  },
  {
   "cell_type": "code",
   "execution_count": 5,
   "metadata": {},
   "outputs": [
    {
     "data": {
      "text/plain": [
       "(1754515, 12)"
      ]
     },
     "execution_count": 5,
     "metadata": {},
     "output_type": "execute_result"
    }
   ],
   "source": [
    "dfTxn.shape"
   ]
  },
  {
   "cell_type": "code",
   "execution_count": 6,
   "metadata": {},
   "outputs": [
    {
     "data": {
      "text/plain": [
       "(80, 2)"
      ]
     },
     "execution_count": 6,
     "metadata": {},
     "output_type": "execute_result"
    }
   ],
   "source": [
    "dfProducts.shape"
   ]
  },
  {
   "cell_type": "code",
   "execution_count": 9,
   "metadata": {},
   "outputs": [],
   "source": [
    "# Add the column names to the Product dataframe\n",
    "dfProducts.columns = ['Product', 'Price']\n",
    "\n",
    "# Convert the column names into lower case \n",
    "# also remove any leading or lagging spaces, also whitespaces in between\n",
    "# ----- Txn dataframe -----\n",
    "# remove spaces in the product names\n",
    "dfTxn['Product'] = dfTxn['Product'].apply ( lambda x: re.sub( '\\s+', '', x) )\n",
    "\n",
    "# conver to lower case\n",
    "dfTxn['Product'] = dfTxn['Product'].apply ( lambda x: x.lower() )\n",
    "\n",
    "\n",
    "# ----- Product dataframe -----\n",
    "# remove spaces in the product names\n",
    "dfProducts['Product'] = dfProducts['Product'].apply ( lambda x: re.sub( '\\s+', '', x) )\n",
    "\n",
    "# conver to lower case\n",
    "dfProducts['Product'] = dfProducts['Product'].apply ( lambda x: x.lower() )"
   ]
  },
  {
   "cell_type": "markdown",
   "metadata": {},
   "source": [
    "# Data cleaning"
   ]
  },
  {
   "cell_type": "code",
   "execution_count": 10,
   "metadata": {},
   "outputs": [
    {
     "data": {
      "text/plain": [
       "Product    0\n",
       "Price      0\n",
       "dtype: int64"
      ]
     },
     "execution_count": 10,
     "metadata": {},
     "output_type": "execute_result"
    }
   ],
   "source": [
    "# search isna().sum() - basically np.nan values\n",
    "dfProducts.isna().sum()\n"
   ]
  },
  {
   "cell_type": "code",
   "execution_count": 11,
   "metadata": {},
   "outputs": [
    {
     "data": {
      "text/plain": [
       "CustomerId                    0\n",
       "CustomerEmailAddress          0\n",
       "CustomerGender                0\n",
       "CustomerAge                   0\n",
       "CustomerDeviceType            0\n",
       "OrderId                       0\n",
       "OrderAmount                   0\n",
       "Product                       0\n",
       "OrderStatus                   0\n",
       "DeliveryPinCode               0\n",
       "OrderPaymentMode              0\n",
       "OrderDate               1754515\n",
       "dtype: int64"
      ]
     },
     "execution_count": 11,
     "metadata": {},
     "output_type": "execute_result"
    }
   ],
   "source": [
    "dfTxn.isna().sum()"
   ]
  },
  {
   "cell_type": "code",
   "execution_count": 12,
   "metadata": {},
   "outputs": [
    {
     "data": {
      "text/plain": [
       "(1754515, 12)"
      ]
     },
     "execution_count": 12,
     "metadata": {},
     "output_type": "execute_result"
    }
   ],
   "source": [
    "dfTxn.shape"
   ]
  },
  {
   "cell_type": "code",
   "execution_count": null,
   "metadata": {},
   "outputs": [],
   "source": [
    "# all records have nan value for dfTxn.OrderDate\n",
    "# so we can remove that column\n",
    "# also the EmailAddress column seems to be of no use, since we \n",
    "# already have CustomerId"
   ]
  },
  {
   "cell_type": "code",
   "execution_count": 13,
   "metadata": {},
   "outputs": [],
   "source": [
    "dfTxn.drop(columns=['CustomerEmailAddress', 'OrderDate'], inplace=True)"
   ]
  },
  {
   "cell_type": "code",
   "execution_count": 14,
   "metadata": {},
   "outputs": [
    {
     "name": "stdout",
     "output_type": "stream",
     "text": [
      "<class 'pandas.core.frame.DataFrame'>\n",
      "RangeIndex: 1754515 entries, 0 to 1754514\n",
      "Data columns (total 10 columns):\n",
      " #   Column              Dtype \n",
      "---  ------              ----- \n",
      " 0   CustomerId          object\n",
      " 1   CustomerGender      object\n",
      " 2   CustomerAge         int64 \n",
      " 3   CustomerDeviceType  object\n",
      " 4   OrderId             int64 \n",
      " 5   OrderAmount         int64 \n",
      " 6   Product             object\n",
      " 7   OrderStatus         object\n",
      " 8   DeliveryPinCode     int64 \n",
      " 9   OrderPaymentMode    object\n",
      "dtypes: int64(4), object(6)\n",
      "memory usage: 133.9+ MB\n"
     ]
    }
   ],
   "source": [
    "dfTxn.info()"
   ]
  },
  {
   "cell_type": "code",
   "execution_count": null,
   "metadata": {},
   "outputs": [],
   "source": []
  },
  {
   "cell_type": "markdown",
   "metadata": {},
   "source": [
    "# Data exploration "
   ]
  },
  {
   "cell_type": "code",
   "execution_count": 23,
   "metadata": {},
   "outputs": [
    {
     "data": {
      "text/html": [
       "<div>\n",
       "<style scoped>\n",
       "    .dataframe tbody tr th:only-of-type {\n",
       "        vertical-align: middle;\n",
       "    }\n",
       "\n",
       "    .dataframe tbody tr th {\n",
       "        vertical-align: top;\n",
       "    }\n",
       "\n",
       "    .dataframe thead th {\n",
       "        text-align: right;\n",
       "    }\n",
       "</style>\n",
       "<table border=\"1\" class=\"dataframe\">\n",
       "  <thead>\n",
       "    <tr style=\"text-align: right;\">\n",
       "      <th></th>\n",
       "      <th>count</th>\n",
       "      <th>mean</th>\n",
       "      <th>std</th>\n",
       "      <th>min</th>\n",
       "      <th>25%</th>\n",
       "      <th>50%</th>\n",
       "      <th>75%</th>\n",
       "      <th>max</th>\n",
       "    </tr>\n",
       "  </thead>\n",
       "  <tbody>\n",
       "    <tr>\n",
       "      <th>Price</th>\n",
       "      <td>80.0</td>\n",
       "      <td>12746.25</td>\n",
       "      <td>20683.020271</td>\n",
       "      <td>200.0</td>\n",
       "      <td>1000.0</td>\n",
       "      <td>5000.0</td>\n",
       "      <td>10000.0</td>\n",
       "      <td>100000.0</td>\n",
       "    </tr>\n",
       "  </tbody>\n",
       "</table>\n",
       "</div>"
      ],
      "text/plain": [
       "       count      mean           std    min     25%     50%      75%       max\n",
       "Price   80.0  12746.25  20683.020271  200.0  1000.0  5000.0  10000.0  100000.0"
      ]
     },
     "execution_count": 23,
     "metadata": {},
     "output_type": "execute_result"
    }
   ],
   "source": [
    "dfProducts.describe().transpose()"
   ]
  },
  {
   "cell_type": "code",
   "execution_count": null,
   "metadata": {},
   "outputs": [],
   "source": [
    "# looking at the price column it seems that some items are siginificantly higher priced than others "
   ]
  },
  {
   "cell_type": "code",
   "execution_count": 24,
   "metadata": {},
   "outputs": [
    {
     "data": {
      "text/plain": [
       "<AxesSubplot:title={'center':\"Countplot of each Product's Price\"}, xlabel='Price', ylabel='count'>"
      ]
     },
     "execution_count": 24,
     "metadata": {},
     "output_type": "execute_result"
    },
    {
     "data": {
      "image/png": "[encoded data removed]",
      "text/plain": [
       "<Figure size 2160x720 with 1 Axes>"
      ]
     },
     "metadata": {
      "needs_background": "light"
     },
     "output_type": "display_data"
    }
   ],
   "source": [
    "plt.figure(figsize=(30, 10))\n",
    "plt.title ('Countplot of each Product\\'s Price')\n",
    "sns.countplot(x=dfProducts.Price)"
   ]
  },
  {
   "cell_type": "code",
   "execution_count": 43,
   "metadata": {},
   "outputs": [],
   "source": [
    "# so we need to divide the price column into categories, maybe 5 bins using pd.qcut()"
   ]
  },
  {
   "cell_type": "code",
   "execution_count": 44,
   "metadata": {},
   "outputs": [],
   "source": [
    "numBins = 5\n",
    "dfProducts['PriceCategory'] = pd.qcut(x=dfProducts['Price'], q = numBins, labels=[i+1 for i in range(numBins)] )"
   ]
  },
  {
   "cell_type": "code",
   "execution_count": 80,
   "metadata": {},
   "outputs": [
    {
     "data": {
      "text/plain": [
       "[Interval(199.999, 1000.0, closed='right'),\n",
       " Interval(1000.0, 5000.0, closed='right'),\n",
       " Interval(5800.0, 20000.0, closed='right'),\n",
       " Interval(20000.0, 100000.0, closed='right')]"
      ]
     },
     "execution_count": 80,
     "metadata": {},
     "output_type": "execute_result"
    }
   ],
   "source": [
    "# these are the bins\n",
    "\n",
    "pd.qcut(x=dfProducts['Price'], q = numBins ).values.unique().to_list()\n"
   ]
  },
  {
   "cell_type": "code",
   "execution_count": 45,
   "metadata": {},
   "outputs": [
    {
     "data": {
      "text/html": [
       "<div>\n",
       "<style scoped>\n",
       "    .dataframe tbody tr th:only-of-type {\n",
       "        vertical-align: middle;\n",
       "    }\n",
       "\n",
       "    .dataframe tbody tr th {\n",
       "        vertical-align: top;\n",
       "    }\n",
       "\n",
       "    .dataframe thead th {\n",
       "        text-align: right;\n",
       "    }\n",
       "</style>\n",
       "<table border=\"1\" class=\"dataframe\">\n",
       "  <thead>\n",
       "    <tr style=\"text-align: right;\">\n",
       "      <th></th>\n",
       "      <th>Product</th>\n",
       "      <th>Price</th>\n",
       "      <th>PriceCategory</th>\n",
       "    </tr>\n",
       "  </thead>\n",
       "  <tbody>\n",
       "    <tr>\n",
       "      <th>0</th>\n",
       "      <td>tshirt</td>\n",
       "      <td>1000</td>\n",
       "      <td>1</td>\n",
       "    </tr>\n",
       "    <tr>\n",
       "      <th>1</th>\n",
       "      <td>jeans</td>\n",
       "      <td>2000</td>\n",
       "      <td>2</td>\n",
       "    </tr>\n",
       "    <tr>\n",
       "      <th>2</th>\n",
       "      <td>shirt</td>\n",
       "      <td>1000</td>\n",
       "      <td>1</td>\n",
       "    </tr>\n",
       "    <tr>\n",
       "      <th>3</th>\n",
       "      <td>trouser</td>\n",
       "      <td>2000</td>\n",
       "      <td>2</td>\n",
       "    </tr>\n",
       "    <tr>\n",
       "      <th>4</th>\n",
       "      <td>skirt</td>\n",
       "      <td>5000</td>\n",
       "      <td>2</td>\n",
       "    </tr>\n",
       "  </tbody>\n",
       "</table>\n",
       "</div>"
      ],
      "text/plain": [
       "   Product  Price PriceCategory\n",
       "0   tshirt   1000             1\n",
       "1    jeans   2000             2\n",
       "2    shirt   1000             1\n",
       "3  trouser   2000             2\n",
       "4    skirt   5000             2"
      ]
     },
     "execution_count": 45,
     "metadata": {},
     "output_type": "execute_result"
    }
   ],
   "source": [
    "dfProducts.head(5)"
   ]
  },
  {
   "cell_type": "code",
   "execution_count": 47,
   "metadata": {},
   "outputs": [],
   "source": [
    "# we need to apply this Price Category to the dfTxn dataframe as well"
   ]
  },
  {
   "cell_type": "code",
   "execution_count": 70,
   "metadata": {},
   "outputs": [
    {
     "data": {
      "text/plain": [
       "array([4, 2, 1, 5])"
      ]
     },
     "execution_count": 70,
     "metadata": {},
     "output_type": "execute_result"
    }
   ],
   "source": [
    "dfTxn.ProductPriceCategory.unique()"
   ]
  },
  {
   "cell_type": "code",
   "execution_count": 71,
   "metadata": {},
   "outputs": [
    {
     "data": {
      "text/plain": [
       "<AxesSubplot:title={'center':'Countplot of Product-Price Category'}, xlabel='ProductPriceCategory', ylabel='count'>"
      ]
     },
     "execution_count": 71,
     "metadata": {},
     "output_type": "execute_result"
    },
    {
     "data": {
      "image/png": "[encoded data removed]",
      "text/plain": [
       "<Figure size 360x360 with 1 Axes>"
      ]
     },
     "metadata": {
      "needs_background": "light"
     },
     "output_type": "display_data"
    }
   ],
   "source": [
    "#countplot shows there is no item transaction in price bin 3 \n",
    "# also maximum item in bin 2\n",
    "\n",
    "plt.figure(figsize=(5, 5))\n",
    "plt.title ('Countplot of Product-Price Category')\n",
    "sns.countplot(x=dfTxn.ProductPriceCategory)"
   ]
  },
  {
   "cell_type": "code",
   "execution_count": 62,
   "metadata": {},
   "outputs": [],
   "source": [
    "# we see pincodes based from 3 major cities - delhi, mumbai and banglore\n",
    "# we will assign zone names of each of these of pincodes \n",
    "# use the delhi , mumbai data as training\n",
    "# use 50% of bangalore data for validation of hyper parameter\n",
    "# and another 50% as test data"
   ]
  },
  {
   "cell_type": "code",
   "execution_count": 63,
   "metadata": {},
   "outputs": [],
   "source": [
    "# zones dictionary \n",
    "zones = {'Delhi': 110000, 'Mumbai':400000, 'Bangalore': 560000}\n"
   ]
  },
  {
   "cell_type": "code",
   "execution_count": 64,
   "metadata": {},
   "outputs": [],
   "source": [
    "# function to get zone\n",
    "def getZone(pincode):\n",
    "    if pincode < 100000 or pincode > 570000:\n",
    "        return None\n",
    "    for k, v in zones.items():\n",
    "        if abs(v - pincode) < 100000:\n",
    "            return k\n",
    "    return None\n",
    "        "
   ]
  },
  {
   "cell_type": "code",
   "execution_count": 65,
   "metadata": {},
   "outputs": [],
   "source": [
    "dfTxn['Zone'] = dfTxn['DeliveryPinCode'].apply(getZone)"
   ]
  },
  {
   "cell_type": "code",
   "execution_count": null,
   "metadata": {},
   "outputs": [],
   "source": []
  },
  {
   "cell_type": "code",
   "execution_count": null,
   "metadata": {},
   "outputs": [],
   "source": []
  },
  {
   "cell_type": "code",
   "execution_count": 69,
   "metadata": {},
   "outputs": [
    {
     "data": {
      "text/plain": [
       "<AxesSubplot:title={'center':'Countplot of Zome-wise transactions'}, xlabel='Zone', ylabel='count'>"
      ]
     },
     "execution_count": 69,
     "metadata": {},
     "output_type": "execute_result"
    },
    {
     "data": {
      "image/png": "[encoded data removed]",
      "text/plain": [
       "<Figure size 360x360 with 1 Axes>"
      ]
     },
     "metadata": {
      "needs_background": "light"
     },
     "output_type": "display_data"
    }
   ],
   "source": [
    "plt.figure(figsize=(5, 5))\n",
    "plt.title ('Countplot of Zome-wise transactions')\n",
    "sns.countplot(x=dfTxn.Zone)"
   ]
  },
  {
   "cell_type": "code",
   "execution_count": null,
   "metadata": {},
   "outputs": [],
   "source": []
  },
  {
   "cell_type": "code",
   "execution_count": 81,
   "metadata": {},
   "outputs": [],
   "source": [
    "# list of all products"
   ]
  },
  {
   "cell_type": "code",
   "execution_count": 82,
   "metadata": {},
   "outputs": [],
   "source": [
    "allProducts = dfProducts.Product.to_list()"
   ]
  },
  {
   "cell_type": "code",
   "execution_count": 84,
   "metadata": {
    "scrolled": true
   },
   "outputs": [
    {
     "data": {
      "text/plain": [
       "'tshirt,jeans,shirt,trouser,skirt,blouse,headphone,laptop,cellphone,usbcable,deodrant,shavingcream,perfume,vest,brief,handbag,laptopbag,travellersbag,watch,passportbag,menssuit,saree,formalshoes,casualshoes,sleepers,handkerchief,books,ballpen,inkpen,notepad,tablet,speakers,googlehome,alexa,television,hometheatre,powerbank,smartwatch,usbstick,monitors,printer,router,lights,smartlights,homeautomation,usbstick,cleartripvoucher,yatravoucher,irctcvoucher,hoteltajgiftcard,hotelmarriotgiftcard,ubercashcard,olacashcard,swiggycashcard,zomatocashcard,vedantugiftcard,byjugiftcard,bookmyshowgiftcard,netflixvoucher,hotstarvoucher,zee5voucher,vootvoucher,sonylivvoucher,sunglasses,cultfitvoucher,makemytripvoucher,agodavoucher,kindle,bharatpetroleumvoucher,dreams11giftcard,rummycirclegiftcard,tataskygiftcard,exotictea,luxurywatch,goldjewelley,diamondjewellery,woodfurniture,metalfurniture,fancylights,headoutvoucher'"
      ]
     },
     "execution_count": 84,
     "metadata": {},
     "output_type": "execute_result"
    }
   ],
   "source": [
    "','.join(allProducts)"
   ]
  },
  {
   "cell_type": "code",
   "execution_count": null,
   "metadata": {},
   "outputs": [],
   "source": [
    "# countplot of payment modes"
   ]
  },
  {
   "cell_type": "code",
   "execution_count": 86,
   "metadata": {
    "scrolled": false
   },
   "outputs": [
    {
     "data": {
      "text/plain": [
       "<AxesSubplot:title={'center':'Countplot of Payment mode'}, xlabel='OrderPaymentMode', ylabel='count'>"
      ]
     },
     "execution_count": 86,
     "metadata": {},
     "output_type": "execute_result"
    },
    {
     "data": {
      "image/png": "[encoded data removed]",
      "text/plain": [
       "<Figure size 360x360 with 1 Axes>"
      ]
     },
     "metadata": {
      "needs_background": "light"
     },
     "output_type": "display_data"
    }
   ],
   "source": [
    "plt.figure(figsize=(5, 5))\n",
    "plt.title ('Countplot of Payment mode')\n",
    "plt.xticks(rotation=70)\n",
    "sns.countplot(x=dfTxn.OrderPaymentMode)"
   ]
  },
  {
   "cell_type": "code",
   "execution_count": null,
   "metadata": {},
   "outputs": [],
   "source": []
  },
  {
   "cell_type": "code",
   "execution_count": 88,
   "metadata": {},
   "outputs": [],
   "source": [
    "# order status "
   ]
  },
  {
   "cell_type": "code",
   "execution_count": 91,
   "metadata": {},
   "outputs": [
    {
     "data": {
      "text/plain": [
       "array(['Item Returned', 'Delivered', 'Payment Incomplete',\n",
       "       'Order Cancelled'], dtype=object)"
      ]
     },
     "execution_count": 91,
     "metadata": {},
     "output_type": "execute_result"
    }
   ],
   "source": [
    "dfTxn.OrderStatus.unique()"
   ]
  },
  {
   "cell_type": "code",
   "execution_count": 92,
   "metadata": {},
   "outputs": [
    {
     "data": {
      "text/plain": [
       "<AxesSubplot:title={'center':'Countplot of each OrderStatus'}, xlabel='OrderStatus', ylabel='count'>"
      ]
     },
     "execution_count": 92,
     "metadata": {},
     "output_type": "execute_result"
    },
    {
     "data": {
      "image/png": "[encoded data removed]",
      "text/plain": [
       "<Figure size 360x360 with 1 Axes>"
      ]
     },
     "metadata": {
      "needs_background": "light"
     },
     "output_type": "display_data"
    }
   ],
   "source": [
    "plt.figure(figsize=(5, 5))\n",
    "plt.title ('Countplot of each OrderStatus')\n",
    "plt.xticks(rotation=70)\n",
    "sns.countplot(x=dfTxn.OrderStatus)"
   ]
  },
  {
   "cell_type": "code",
   "execution_count": 93,
   "metadata": {},
   "outputs": [],
   "source": [
    "# in order to make any decision we have to \n",
    "# give some weightage to an OrderStatus that \n",
    "# so eventually we can come up with a score for the customer-item relationship\n",
    "# and use that score in our model building\n",
    "\n",
    "# so what I decided is to give the following weightages \n",
    "\n",
    "# delivered = 50 \n",
    "# payment incomplete = 10\n",
    "# order cancelled = 1\n",
    "# item returned = 0\n",
    "\n",
    "# lets have a function for it"
   ]
  },
  {
   "cell_type": "code",
   "execution_count": 94,
   "metadata": {},
   "outputs": [],
   "source": [
    "def getUserScore(x):\n",
    "    if x == 'Delivered':\n",
    "        return 50\n",
    "    elif x == 'Payment Incomplete':\n",
    "        return 10 \n",
    "    elif x == 'Order Cancelled':\n",
    "        return 1\n",
    "    else:\n",
    "        return 0 "
   ]
  },
  {
   "cell_type": "code",
   "execution_count": 95,
   "metadata": {},
   "outputs": [],
   "source": [
    "dfTxn['OrderStatusScore'] = dfTxn['OrderStatus'].apply(getUserScore)"
   ]
  },
  {
   "cell_type": "code",
   "execution_count": null,
   "metadata": {},
   "outputs": [],
   "source": []
  },
  {
   "cell_type": "code",
   "execution_count": 96,
   "metadata": {},
   "outputs": [],
   "source": [
    "# similarly for the payment mode - lets make it into codes \n",
    "\n",
    "paymentCodes = {'net_banking':1, 'credit_card':2, 'upi':3, 'wallet':4, 'debit_card':5}\n",
    "dfTxn['PaymentMode'] = dfTxn['OrderPaymentMode'].apply( lambda x: paymentCodes[x])"
   ]
  },
  {
   "cell_type": "code",
   "execution_count": 97,
   "metadata": {},
   "outputs": [],
   "source": [
    "# similary CustomerDeviceType\n",
    "\n",
    "dfTxn.CustomerDeviceType.unique()\n",
    "deviceTypes = {'iOS':1, 'Windows':1, 'Linux':2, 'Android':3}\n",
    "dfTxn['DeviceType'] = dfTxn['CustomerDeviceType'].apply(lambda x: deviceTypes[x])"
   ]
  },
  {
   "cell_type": "code",
   "execution_count": 98,
   "metadata": {},
   "outputs": [],
   "source": [
    "# similary gender\n",
    "\n",
    "genderTypes = {'Male': 1, 'Female':2}\n",
    "dfTxn['Gender'] = dfTxn['CustomerGender'].apply(lambda x: genderTypes[x])"
   ]
  },
  {
   "cell_type": "code",
   "execution_count": 99,
   "metadata": {},
   "outputs": [],
   "source": [
    "# similarly age\n",
    "\n",
    "dfTxn['Age'] = 0\n",
    "dfTxn['Age'] = pd.qcut(x=dfTxn['CustomerAge'],q=5,labels=[1,2,3,4,5])"
   ]
  },
  {
   "cell_type": "code",
   "execution_count": 103,
   "metadata": {},
   "outputs": [
    {
     "data": {
      "text/html": [
       "<div>\n",
       "<style scoped>\n",
       "    .dataframe tbody tr th:only-of-type {\n",
       "        vertical-align: middle;\n",
       "    }\n",
       "\n",
       "    .dataframe tbody tr th {\n",
       "        vertical-align: top;\n",
       "    }\n",
       "\n",
       "    .dataframe thead th {\n",
       "        text-align: right;\n",
       "    }\n",
       "</style>\n",
       "<table border=\"1\" class=\"dataframe\">\n",
       "  <thead>\n",
       "    <tr style=\"text-align: right;\">\n",
       "      <th></th>\n",
       "      <th>CustomerId</th>\n",
       "      <th>CustomerGender</th>\n",
       "      <th>CustomerAge</th>\n",
       "      <th>CustomerDeviceType</th>\n",
       "      <th>OrderId</th>\n",
       "      <th>OrderAmount</th>\n",
       "      <th>Product</th>\n",
       "      <th>OrderStatus</th>\n",
       "      <th>DeliveryPinCode</th>\n",
       "      <th>OrderPaymentMode</th>\n",
       "      <th>ProductPriceCategory</th>\n",
       "      <th>Zone</th>\n",
       "      <th>OrderStatusScore</th>\n",
       "      <th>PaymentMode</th>\n",
       "      <th>DeviceType</th>\n",
       "      <th>Gender</th>\n",
       "      <th>Age</th>\n",
       "    </tr>\n",
       "  </thead>\n",
       "  <tbody>\n",
       "    <tr>\n",
       "      <th>1754513</th>\n",
       "      <td>Y6BIVCODU7</td>\n",
       "      <td>Male</td>\n",
       "      <td>26</td>\n",
       "      <td>Android</td>\n",
       "      <td>8881802</td>\n",
       "      <td>7000</td>\n",
       "      <td>router</td>\n",
       "      <td>Delivered</td>\n",
       "      <td>400038</td>\n",
       "      <td>net_banking</td>\n",
       "      <td>4</td>\n",
       "      <td>Mumbai</td>\n",
       "      <td>50</td>\n",
       "      <td>1</td>\n",
       "      <td>3</td>\n",
       "      <td>1</td>\n",
       "      <td>2</td>\n",
       "    </tr>\n",
       "    <tr>\n",
       "      <th>1754514</th>\n",
       "      <td>Y6BIVCODU7</td>\n",
       "      <td>Male</td>\n",
       "      <td>26</td>\n",
       "      <td>Android</td>\n",
       "      <td>502102</td>\n",
       "      <td>200</td>\n",
       "      <td>shavingcream</td>\n",
       "      <td>Delivered</td>\n",
       "      <td>400038</td>\n",
       "      <td>debit_card</td>\n",
       "      <td>1</td>\n",
       "      <td>Mumbai</td>\n",
       "      <td>50</td>\n",
       "      <td>5</td>\n",
       "      <td>3</td>\n",
       "      <td>1</td>\n",
       "      <td>2</td>\n",
       "    </tr>\n",
       "  </tbody>\n",
       "</table>\n",
       "</div>"
      ],
      "text/plain": [
       "         CustomerId CustomerGender  CustomerAge CustomerDeviceType  OrderId  \\\n",
       "1754513  Y6BIVCODU7           Male           26            Android  8881802   \n",
       "1754514  Y6BIVCODU7           Male           26            Android   502102   \n",
       "\n",
       "         OrderAmount       Product OrderStatus  DeliveryPinCode  \\\n",
       "1754513         7000        router   Delivered           400038   \n",
       "1754514          200  shavingcream   Delivered           400038   \n",
       "\n",
       "        OrderPaymentMode  ProductPriceCategory    Zone  OrderStatusScore  \\\n",
       "1754513      net_banking                     4  Mumbai                50   \n",
       "1754514       debit_card                     1  Mumbai                50   \n",
       "\n",
       "         PaymentMode  DeviceType  Gender Age  \n",
       "1754513            1           3       1   2  \n",
       "1754514            5           3       1   2  "
      ]
     },
     "execution_count": 103,
     "metadata": {},
     "output_type": "execute_result"
    }
   ],
   "source": [
    "dfTxn.tail(2)"
   ]
  },
  {
   "cell_type": "code",
   "execution_count": 102,
   "metadata": {},
   "outputs": [
    {
     "data": {
      "text/html": [
       "<div>\n",
       "<style scoped>\n",
       "    .dataframe tbody tr th:only-of-type {\n",
       "        vertical-align: middle;\n",
       "    }\n",
       "\n",
       "    .dataframe tbody tr th {\n",
       "        vertical-align: top;\n",
       "    }\n",
       "\n",
       "    .dataframe thead th {\n",
       "        text-align: right;\n",
       "    }\n",
       "</style>\n",
       "<table border=\"1\" class=\"dataframe\">\n",
       "  <thead>\n",
       "    <tr style=\"text-align: right;\">\n",
       "      <th></th>\n",
       "      <th>CustomerId</th>\n",
       "      <th>CustomerGender</th>\n",
       "      <th>CustomerAge</th>\n",
       "      <th>CustomerDeviceType</th>\n",
       "      <th>OrderId</th>\n",
       "      <th>OrderAmount</th>\n",
       "      <th>Product</th>\n",
       "      <th>OrderStatus</th>\n",
       "      <th>DeliveryPinCode</th>\n",
       "      <th>OrderPaymentMode</th>\n",
       "      <th>ProductPriceCategory</th>\n",
       "      <th>Zone</th>\n",
       "      <th>OrderStatusScore</th>\n",
       "      <th>PaymentMode</th>\n",
       "      <th>DeviceType</th>\n",
       "      <th>Gender</th>\n",
       "      <th>Age</th>\n",
       "    </tr>\n",
       "  </thead>\n",
       "  <tbody>\n",
       "    <tr>\n",
       "      <th>0</th>\n",
       "      <td>Q8RV5E9KFX</td>\n",
       "      <td>Male</td>\n",
       "      <td>48</td>\n",
       "      <td>iOS</td>\n",
       "      <td>398629</td>\n",
       "      <td>10000</td>\n",
       "      <td>googlehome</td>\n",
       "      <td>Item Returned</td>\n",
       "      <td>560034</td>\n",
       "      <td>net_banking</td>\n",
       "      <td>4</td>\n",
       "      <td>Bangalore</td>\n",
       "      <td>0</td>\n",
       "      <td>1</td>\n",
       "      <td>1</td>\n",
       "      <td>1</td>\n",
       "      <td>5</td>\n",
       "    </tr>\n",
       "    <tr>\n",
       "      <th>1</th>\n",
       "      <td>Q8RV5E9KFX</td>\n",
       "      <td>Male</td>\n",
       "      <td>48</td>\n",
       "      <td>iOS</td>\n",
       "      <td>2593111</td>\n",
       "      <td>5000</td>\n",
       "      <td>dreams11giftcard</td>\n",
       "      <td>Item Returned</td>\n",
       "      <td>110001</td>\n",
       "      <td>credit_card</td>\n",
       "      <td>2</td>\n",
       "      <td>Delhi</td>\n",
       "      <td>0</td>\n",
       "      <td>2</td>\n",
       "      <td>1</td>\n",
       "      <td>1</td>\n",
       "      <td>5</td>\n",
       "    </tr>\n",
       "  </tbody>\n",
       "</table>\n",
       "</div>"
      ],
      "text/plain": [
       "   CustomerId CustomerGender  CustomerAge CustomerDeviceType  OrderId  \\\n",
       "0  Q8RV5E9KFX           Male           48                iOS   398629   \n",
       "1  Q8RV5E9KFX           Male           48                iOS  2593111   \n",
       "\n",
       "   OrderAmount           Product    OrderStatus  DeliveryPinCode  \\\n",
       "0        10000        googlehome  Item Returned           560034   \n",
       "1         5000  dreams11giftcard  Item Returned           110001   \n",
       "\n",
       "  OrderPaymentMode  ProductPriceCategory       Zone  OrderStatusScore  \\\n",
       "0      net_banking                     4  Bangalore                 0   \n",
       "1      credit_card                     2      Delhi                 0   \n",
       "\n",
       "   PaymentMode  DeviceType  Gender Age  \n",
       "0            1           1       1   5  \n",
       "1            2           1       1   5  "
      ]
     },
     "execution_count": 102,
     "metadata": {},
     "output_type": "execute_result"
    }
   ],
   "source": [
    "dfTxn.head(2) "
   ]
  },
  {
   "cell_type": "code",
   "execution_count": null,
   "metadata": {},
   "outputs": [],
   "source": [
    "# get the training data"
   ]
  },
  {
   "cell_type": "code",
   "execution_count": 130,
   "metadata": {},
   "outputs": [],
   "source": [
    "dfTrain = dfTxn[(dfTxn.Zone.isin(['Delhi','Mumbai']))]\n",
    "#['CustomerId','Gender', 'Age', 'PaymentMode', 'DeviceType','OrderStatusScore', 'ProductPriceCategory' , 'Product']"
   ]
  },
  {
   "cell_type": "code",
   "execution_count": 132,
   "metadata": {},
   "outputs": [],
   "source": [
    "dfTrain = dfTrain[['CustomerId','Gender', 'Age', 'PaymentMode', 'DeviceType','OrderStatusScore', 'ProductPriceCategory' , 'Product']]"
   ]
  },
  {
   "cell_type": "code",
   "execution_count": 133,
   "metadata": {},
   "outputs": [
    {
     "data": {
      "text/html": [
       "<div>\n",
       "<style scoped>\n",
       "    .dataframe tbody tr th:only-of-type {\n",
       "        vertical-align: middle;\n",
       "    }\n",
       "\n",
       "    .dataframe tbody tr th {\n",
       "        vertical-align: top;\n",
       "    }\n",
       "\n",
       "    .dataframe thead th {\n",
       "        text-align: right;\n",
       "    }\n",
       "</style>\n",
       "<table border=\"1\" class=\"dataframe\">\n",
       "  <thead>\n",
       "    <tr style=\"text-align: right;\">\n",
       "      <th></th>\n",
       "      <th>CustomerId</th>\n",
       "      <th>Gender</th>\n",
       "      <th>Age</th>\n",
       "      <th>PaymentMode</th>\n",
       "      <th>DeviceType</th>\n",
       "      <th>OrderStatusScore</th>\n",
       "      <th>ProductPriceCategory</th>\n",
       "      <th>Product</th>\n",
       "    </tr>\n",
       "  </thead>\n",
       "  <tbody>\n",
       "    <tr>\n",
       "      <th>1</th>\n",
       "      <td>Q8RV5E9KFX</td>\n",
       "      <td>1</td>\n",
       "      <td>5</td>\n",
       "      <td>2</td>\n",
       "      <td>1</td>\n",
       "      <td>0</td>\n",
       "      <td>2</td>\n",
       "      <td>dreams11giftcard</td>\n",
       "    </tr>\n",
       "    <tr>\n",
       "      <th>2</th>\n",
       "      <td>Q8RV5E9KFX</td>\n",
       "      <td>1</td>\n",
       "      <td>5</td>\n",
       "      <td>3</td>\n",
       "      <td>1</td>\n",
       "      <td>0</td>\n",
       "      <td>1</td>\n",
       "      <td>sleepers</td>\n",
       "    </tr>\n",
       "  </tbody>\n",
       "</table>\n",
       "</div>"
      ],
      "text/plain": [
       "   CustomerId  Gender Age  PaymentMode  DeviceType  OrderStatusScore  \\\n",
       "1  Q8RV5E9KFX       1   5            2           1                 0   \n",
       "2  Q8RV5E9KFX       1   5            3           1                 0   \n",
       "\n",
       "   ProductPriceCategory           Product  \n",
       "1                     2  dreams11giftcard  \n",
       "2                     1          sleepers  "
      ]
     },
     "execution_count": 133,
     "metadata": {},
     "output_type": "execute_result"
    }
   ],
   "source": [
    "dfTrain.head(2)"
   ]
  },
  {
   "cell_type": "code",
   "execution_count": 139,
   "metadata": {},
   "outputs": [
    {
     "data": {
      "text/plain": [
       "(1169993, 8)"
      ]
     },
     "execution_count": 139,
     "metadata": {},
     "output_type": "execute_result"
    }
   ],
   "source": [
    "dfTrain.shape"
   ]
  },
  {
   "cell_type": "code",
   "execution_count": 140,
   "metadata": {},
   "outputs": [
    {
     "data": {
      "text/plain": [
       "(1754515, 17)"
      ]
     },
     "execution_count": 140,
     "metadata": {},
     "output_type": "execute_result"
    }
   ],
   "source": [
    "dfTxn.shape"
   ]
  },
  {
   "cell_type": "code",
   "execution_count": 141,
   "metadata": {},
   "outputs": [],
   "source": [
    "# in a new dataframe we get the score of relationship between a customerId - product"
   ]
  },
  {
   "cell_type": "code",
   "execution_count": 142,
   "metadata": {},
   "outputs": [],
   "source": [
    "group = dfTrain.groupby(['CustomerId','Product'])['OrderStatusScore'].sum().reset_index()"
   ]
  },
  {
   "cell_type": "code",
   "execution_count": 143,
   "metadata": {},
   "outputs": [
    {
     "data": {
      "text/html": [
       "<div>\n",
       "<style scoped>\n",
       "    .dataframe tbody tr th:only-of-type {\n",
       "        vertical-align: middle;\n",
       "    }\n",
       "\n",
       "    .dataframe tbody tr th {\n",
       "        vertical-align: top;\n",
       "    }\n",
       "\n",
       "    .dataframe thead th {\n",
       "        text-align: right;\n",
       "    }\n",
       "</style>\n",
       "<table border=\"1\" class=\"dataframe\">\n",
       "  <thead>\n",
       "    <tr style=\"text-align: right;\">\n",
       "      <th></th>\n",
       "      <th>CustomerId</th>\n",
       "      <th>Product</th>\n",
       "      <th>OrderStatusScore</th>\n",
       "    </tr>\n",
       "  </thead>\n",
       "  <tbody>\n",
       "    <tr>\n",
       "      <th>0</th>\n",
       "      <td>0127NRGL6D</td>\n",
       "      <td>googlehome</td>\n",
       "      <td>50</td>\n",
       "    </tr>\n",
       "    <tr>\n",
       "      <th>1</th>\n",
       "      <td>0127NRGL6D</td>\n",
       "      <td>hotstarvoucher</td>\n",
       "      <td>50</td>\n",
       "    </tr>\n",
       "    <tr>\n",
       "      <th>2</th>\n",
       "      <td>0127NRGL6D</td>\n",
       "      <td>luxurywatch</td>\n",
       "      <td>1</td>\n",
       "    </tr>\n",
       "  </tbody>\n",
       "</table>\n",
       "</div>"
      ],
      "text/plain": [
       "   CustomerId         Product  OrderStatusScore\n",
       "0  0127NRGL6D      googlehome                50\n",
       "1  0127NRGL6D  hotstarvoucher                50\n",
       "2  0127NRGL6D     luxurywatch                 1"
      ]
     },
     "execution_count": 143,
     "metadata": {},
     "output_type": "execute_result"
    }
   ],
   "source": [
    "group.head(3)"
   ]
  },
  {
   "cell_type": "code",
   "execution_count": 144,
   "metadata": {},
   "outputs": [
    {
     "name": "stdout",
     "output_type": "stream",
     "text": [
      "<class 'pandas.core.frame.DataFrame'>\n",
      "RangeIndex: 1072896 entries, 0 to 1072895\n",
      "Data columns (total 3 columns):\n",
      " #   Column            Non-Null Count    Dtype \n",
      "---  ------            --------------    ----- \n",
      " 0   CustomerId        1072896 non-null  object\n",
      " 1   Product           1072896 non-null  object\n",
      " 2   OrderStatusScore  1072896 non-null  int64 \n",
      "dtypes: int64(1), object(2)\n",
      "memory usage: 24.6+ MB\n"
     ]
    }
   ],
   "source": [
    "group.info()"
   ]
  },
  {
   "cell_type": "code",
   "execution_count": 145,
   "metadata": {},
   "outputs": [
    {
     "data": {
      "text/plain": [
       "<AxesSubplot:title={'center':'Countplot of each OrderStatusScore'}, xlabel='OrderStatusScore', ylabel='count'>"
      ]
     },
     "execution_count": 145,
     "metadata": {},
     "output_type": "execute_result"
    },
    {
     "data": {
      "image/png": "[encoded data removed]",
      "text/plain": [
       "<Figure size 2160x720 with 1 Axes>"
      ]
     },
     "metadata": {
      "needs_background": "light"
     },
     "output_type": "display_data"
    }
   ],
   "source": [
    "plt.figure(figsize=(30,10))\n",
    "plt.title('Countplot of each OrderStatusScore')\n",
    "sns.countplot(x=group.OrderStatusScore)"
   ]
  },
  {
   "cell_type": "code",
   "execution_count": 146,
   "metadata": {},
   "outputs": [],
   "source": [
    "\n",
    "# we need to create a dataframe where each customer can be represented as a vector\n",
    "# and the field of the vector will be each product\n",
    "# and values will be the OrderStatusScore for each customer-product relationship"
   ]
  },
  {
   "cell_type": "code",
   "execution_count": 147,
   "metadata": {},
   "outputs": [],
   "source": [
    "dfFinal = group.pivot_table(index='CustomerId', columns='Product', values='OrderStatusScore').fillna(0)"
   ]
  },
  {
   "cell_type": "code",
   "execution_count": 148,
   "metadata": {},
   "outputs": [
    {
     "data": {
      "text/plain": [
       "Index(['0127NRGL6D', '012BLUSFE9', '012ILK3ZTP', '012JSI4XBW', '012LB9SYXT',\n",
       "       '012RTOSXZH', '012V8B4AFR', '012YGK4AIC', '0138RN4QFP', '013N62ZYO9',\n",
       "       ...\n",
       "       'ZYU48SOQL6', 'ZYU5HM4AVG', 'ZYUXNAQS69', 'ZYV28HA3OS', 'ZYVRG5SHD7',\n",
       "       'ZYVSA0Q46K', 'ZYW5JUC9TM', 'ZYWC76SJV3', 'ZYXABSMO0U', 'ZYXOTLGBRA'],\n",
       "      dtype='object', name='CustomerId', length=99932)"
      ]
     },
     "execution_count": 148,
     "metadata": {},
     "output_type": "execute_result"
    }
   ],
   "source": [
    "# list of all customers\n",
    "dfFinal.index"
   ]
  },
  {
   "cell_type": "code",
   "execution_count": 149,
   "metadata": {},
   "outputs": [
    {
     "data": {
      "text/plain": [
       "Index(['agodavoucher', 'alexa', 'ballpen', 'bharatpetroleumvoucher', 'blouse',\n",
       "       'bookmyshowgiftcard', 'books', 'brief', 'byjugiftcard', 'casualshoes',\n",
       "       'cellphone', 'cleartripvoucher', 'cultfitvoucher', 'deodrant',\n",
       "       'diamondjewellery', 'dreams11giftcard', 'exotictea', 'fancylights',\n",
       "       'formalshoes', 'goldjewelley', 'googlehome', 'handbag', 'handkerchief',\n",
       "       'headoutvoucher', 'headphone', 'homeautomation', 'hometheatre',\n",
       "       'hotelmarriotgiftcard', 'hoteltajgiftcard', 'hotstarvoucher', 'inkpen',\n",
       "       'irctcvoucher', 'jeans', 'kindle', 'laptop', 'laptopbag', 'lights',\n",
       "       'luxurywatch', 'makemytripvoucher', 'menssuit', 'metalfurniture',\n",
       "       'monitors', 'netflixvoucher', 'notepad', 'olacashcard', 'passportbag',\n",
       "       'perfume', 'powerbank', 'printer', 'router', 'rummycirclegiftcard',\n",
       "       'saree', 'shavingcream', 'shirt', 'skirt', 'sleepers', 'smartlights',\n",
       "       'smartwatch', 'sonylivvoucher', 'speakers', 'sunglasses',\n",
       "       'swiggycashcard', 'tablet', 'tataskygiftcard', 'television',\n",
       "       'travellersbag', 'trouser', 'tshirt', 'ubercashcard', 'usbcable',\n",
       "       'usbstick', 'vedantugiftcard', 'vest', 'vootvoucher', 'watch',\n",
       "       'woodfurniture', 'yatravoucher', 'zee5voucher', 'zomatocashcard'],\n",
       "      dtype='object', name='Product')"
      ]
     },
     "execution_count": 149,
     "metadata": {},
     "output_type": "execute_result"
    }
   ],
   "source": [
    "# list of all features of each customer\n",
    "dfFinal.columns"
   ]
  },
  {
   "cell_type": "code",
   "execution_count": 150,
   "metadata": {},
   "outputs": [
    {
     "data": {
      "text/plain": [
       "(99932, 79)"
      ]
     },
     "execution_count": 150,
     "metadata": {},
     "output_type": "execute_result"
    }
   ],
   "source": [
    "dfFinal.shape"
   ]
  },
  {
   "cell_type": "code",
   "execution_count": 151,
   "metadata": {},
   "outputs": [
    {
     "data": {
      "text/html": [
       "<div>\n",
       "<style scoped>\n",
       "    .dataframe tbody tr th:only-of-type {\n",
       "        vertical-align: middle;\n",
       "    }\n",
       "\n",
       "    .dataframe tbody tr th {\n",
       "        vertical-align: top;\n",
       "    }\n",
       "\n",
       "    .dataframe thead th {\n",
       "        text-align: right;\n",
       "    }\n",
       "</style>\n",
       "<table border=\"1\" class=\"dataframe\">\n",
       "  <thead>\n",
       "    <tr style=\"text-align: right;\">\n",
       "      <th>Product</th>\n",
       "      <th>agodavoucher</th>\n",
       "      <th>alexa</th>\n",
       "      <th>ballpen</th>\n",
       "      <th>bharatpetroleumvoucher</th>\n",
       "      <th>blouse</th>\n",
       "      <th>bookmyshowgiftcard</th>\n",
       "      <th>books</th>\n",
       "      <th>brief</th>\n",
       "      <th>byjugiftcard</th>\n",
       "      <th>casualshoes</th>\n",
       "      <th>...</th>\n",
       "      <th>usbcable</th>\n",
       "      <th>usbstick</th>\n",
       "      <th>vedantugiftcard</th>\n",
       "      <th>vest</th>\n",
       "      <th>vootvoucher</th>\n",
       "      <th>watch</th>\n",
       "      <th>woodfurniture</th>\n",
       "      <th>yatravoucher</th>\n",
       "      <th>zee5voucher</th>\n",
       "      <th>zomatocashcard</th>\n",
       "    </tr>\n",
       "    <tr>\n",
       "      <th>CustomerId</th>\n",
       "      <th></th>\n",
       "      <th></th>\n",
       "      <th></th>\n",
       "      <th></th>\n",
       "      <th></th>\n",
       "      <th></th>\n",
       "      <th></th>\n",
       "      <th></th>\n",
       "      <th></th>\n",
       "      <th></th>\n",
       "      <th></th>\n",
       "      <th></th>\n",
       "      <th></th>\n",
       "      <th></th>\n",
       "      <th></th>\n",
       "      <th></th>\n",
       "      <th></th>\n",
       "      <th></th>\n",
       "      <th></th>\n",
       "      <th></th>\n",
       "      <th></th>\n",
       "    </tr>\n",
       "  </thead>\n",
       "  <tbody>\n",
       "    <tr>\n",
       "      <th>0127NRGL6D</th>\n",
       "      <td>0.0</td>\n",
       "      <td>0.0</td>\n",
       "      <td>0.0</td>\n",
       "      <td>0.0</td>\n",
       "      <td>0.0</td>\n",
       "      <td>0.0</td>\n",
       "      <td>0.0</td>\n",
       "      <td>0.0</td>\n",
       "      <td>0.0</td>\n",
       "      <td>0.0</td>\n",
       "      <td>...</td>\n",
       "      <td>0.0</td>\n",
       "      <td>0.0</td>\n",
       "      <td>1.0</td>\n",
       "      <td>0.0</td>\n",
       "      <td>0.0</td>\n",
       "      <td>0.0</td>\n",
       "      <td>0.0</td>\n",
       "      <td>50.0</td>\n",
       "      <td>0.0</td>\n",
       "      <td>10.0</td>\n",
       "    </tr>\n",
       "    <tr>\n",
       "      <th>012BLUSFE9</th>\n",
       "      <td>0.0</td>\n",
       "      <td>0.0</td>\n",
       "      <td>0.0</td>\n",
       "      <td>0.0</td>\n",
       "      <td>10.0</td>\n",
       "      <td>0.0</td>\n",
       "      <td>0.0</td>\n",
       "      <td>0.0</td>\n",
       "      <td>0.0</td>\n",
       "      <td>0.0</td>\n",
       "      <td>...</td>\n",
       "      <td>0.0</td>\n",
       "      <td>1.0</td>\n",
       "      <td>1.0</td>\n",
       "      <td>0.0</td>\n",
       "      <td>0.0</td>\n",
       "      <td>0.0</td>\n",
       "      <td>0.0</td>\n",
       "      <td>0.0</td>\n",
       "      <td>0.0</td>\n",
       "      <td>0.0</td>\n",
       "    </tr>\n",
       "  </tbody>\n",
       "</table>\n",
       "<p>2 rows × 79 columns</p>\n",
       "</div>"
      ],
      "text/plain": [
       "Product     agodavoucher  alexa  ballpen  bharatpetroleumvoucher  blouse  \\\n",
       "CustomerId                                                                 \n",
       "0127NRGL6D           0.0    0.0      0.0                     0.0     0.0   \n",
       "012BLUSFE9           0.0    0.0      0.0                     0.0    10.0   \n",
       "\n",
       "Product     bookmyshowgiftcard  books  brief  byjugiftcard  casualshoes  ...  \\\n",
       "CustomerId                                                               ...   \n",
       "0127NRGL6D                 0.0    0.0    0.0           0.0          0.0  ...   \n",
       "012BLUSFE9                 0.0    0.0    0.0           0.0          0.0  ...   \n",
       "\n",
       "Product     usbcable  usbstick  vedantugiftcard  vest  vootvoucher  watch  \\\n",
       "CustomerId                                                                  \n",
       "0127NRGL6D       0.0       0.0              1.0   0.0          0.0    0.0   \n",
       "012BLUSFE9       0.0       1.0              1.0   0.0          0.0    0.0   \n",
       "\n",
       "Product     woodfurniture  yatravoucher  zee5voucher  zomatocashcard  \n",
       "CustomerId                                                            \n",
       "0127NRGL6D            0.0          50.0          0.0            10.0  \n",
       "012BLUSFE9            0.0           0.0          0.0             0.0  \n",
       "\n",
       "[2 rows x 79 columns]"
      ]
     },
     "execution_count": 151,
     "metadata": {},
     "output_type": "execute_result"
    }
   ],
   "source": [
    "dfFinal.head(2)"
   ]
  },
  {
   "cell_type": "code",
   "execution_count": 152,
   "metadata": {},
   "outputs": [],
   "source": [
    "# since this is a sparse matrix we will convert it to csr_matrix()"
   ]
  },
  {
   "cell_type": "code",
   "execution_count": 153,
   "metadata": {},
   "outputs": [],
   "source": [
    "mtrxTobeUsed = csr_matrix(dfFinal.values)"
   ]
  },
  {
   "cell_type": "code",
   "execution_count": 916,
   "metadata": {},
   "outputs": [
    {
     "data": {
      "text/plain": [
       "(99932, 79)"
      ]
     },
     "execution_count": 916,
     "metadata": {},
     "output_type": "execute_result"
    }
   ],
   "source": [
    "mtrxTobeUsed.shape"
   ]
  },
  {
   "cell_type": "code",
   "execution_count": 917,
   "metadata": {},
   "outputs": [
    {
     "data": {
      "text/plain": [
       "<99932x79 sparse matrix of type '<class 'numpy.float64'>'\n",
       "\twith 822464 stored elements in Compressed Sparse Row format>"
      ]
     },
     "execution_count": 917,
     "metadata": {},
     "output_type": "execute_result"
    }
   ],
   "source": [
    "mtrxTobeUsed"
   ]
  },
  {
   "cell_type": "markdown",
   "metadata": {},
   "source": [
    "# Case 1 -> metric = \"cosine similarity\" , n_neighbors= 5"
   ]
  },
  {
   "cell_type": "code",
   "execution_count": 910,
   "metadata": {},
   "outputs": [],
   "source": [
    "# we will use cosine similarity to find the nearest neighbours \n",
    "# brute force algorithm\n",
    "\n",
    "model = NearestNeighbors(metric='cosine', algorithm='brute')\n"
   ]
  },
  {
   "cell_type": "code",
   "execution_count": 911,
   "metadata": {},
   "outputs": [
    {
     "data": {
      "text/plain": [
       "{'algorithm': 'brute',\n",
       " 'leaf_size': 30,\n",
       " 'metric': 'cosine',\n",
       " 'metric_params': None,\n",
       " 'n_jobs': None,\n",
       " 'n_neighbors': 5,\n",
       " 'p': 2,\n",
       " 'radius': 1.0}"
      ]
     },
     "execution_count": 911,
     "metadata": {},
     "output_type": "execute_result"
    }
   ],
   "source": [
    "model.get_params()"
   ]
  },
  {
   "cell_type": "code",
   "execution_count": 912,
   "metadata": {},
   "outputs": [
    {
     "data": {
      "text/plain": [
       "NearestNeighbors(algorithm='brute', metric='cosine')"
      ]
     },
     "execution_count": 912,
     "metadata": {},
     "output_type": "execute_result"
    }
   ],
   "source": [
    "model.fit(mtrxTobeUsed)"
   ]
  },
  {
   "cell_type": "code",
   "execution_count": 926,
   "metadata": {},
   "outputs": [],
   "source": [
    "def kmeansRecos(CUSTOMERID='012ILK3ZTP', N_NEIGHBOURS=5):\n",
    "    \n",
    "    distances, indices = model.kneighbors( dfFinal[dfFinal.index == CUSTOMERID].values.reshape(1,-1),\\\n",
    "                                          n_neighbors=N_NEIGHBOURS)\n",
    "    nearestCustomers = []\n",
    "    for i in range(0, len(distances.flatten())):\n",
    "        if i == 0:\n",
    "            print(f\"Nearest Neighbours of Customer : {dfFinal.index[indices.flatten()[i]]} \")\n",
    "        else:\n",
    "            customer = dfFinal.index[indices.flatten()[i]]\n",
    "            customerDistance = distances.flatten()[i]\n",
    "            print('{0}: Customer={1}, with distance of {2}'.format(i, customer, customerDistance))\n",
    "\n",
    "            nearestCustomers.append(customer)\n",
    "\n",
    "    # we will try to find the predicted Vector as a mean of all the nearest neighbours \n",
    "    predictedVector = np.zeros((1,79))\n",
    "\n",
    "    numNearestCustomers = len(nearestCustomers)\n",
    "    for customer in nearestCustomers:\n",
    "        predictedVector = predictedVector + dfFinal[(dfFinal.index == customer)].values\n",
    "\n",
    "    predictedVector = predictedVector / numNearestCustomers\n",
    "\n",
    "    # find the actual vector \n",
    "    actual = dfFinal[dfFinal.index == CUSTOMERID].values.reshape(1,-1)\n",
    "\n",
    "    # similarity of actual and predicted \n",
    "    distance = cosine(actual, predicted)\n",
    "    similarity = 1 - distance\n",
    "\n",
    "    print(f\"Recommendations from model has a similarity of {similarity} with actual behavior for Customer: {CUSTOMERID} \")\n",
    "    #print(f\"Recommendations for {CUSTOMERID} has a distance of {distance} from actual\")    "
   ]
  },
  {
   "cell_type": "code",
   "execution_count": 927,
   "metadata": {},
   "outputs": [
    {
     "name": "stdout",
     "output_type": "stream",
     "text": [
      "Nearest Neighbours of Customer : 012ILK3ZTP \n",
      "1: Customer=KRI5E38NCX, with distance of 0.16895293337990658\n",
      "2: Customer=97Y16X03UW, with distance of 0.1758747340250364\n",
      "3: Customer=1NT0E8JZKX, with distance of 0.23743680988734694\n",
      "4: Customer=SCPBT1XQ40, with distance of 0.2502589435386875\n",
      "Recommendations from model has a similarity of 0.8760816777112866 with actual behavior for Customer: 012ILK3ZTP \n"
     ]
    }
   ],
   "source": [
    "kmeansRecos(CUSTOMERID='012ILK3ZTP', N_NEIGHBOURS=5)"
   ]
  },
  {
   "cell_type": "code",
   "execution_count": 928,
   "metadata": {
    "scrolled": true
   },
   "outputs": [
    {
     "name": "stdout",
     "output_type": "stream",
     "text": [
      "\n",
      "Recommendation to customer customer='13BQ8DLFMH' ... \n",
      "\n",
      "Nearest Neighbours of Customer : 13BQ8DLFMH \n",
      "1: Customer=EXFNWLGYSZ, with distance of 0.2675443068093474\n",
      "2: Customer=NR6GKMTCVW, with distance of 0.3022021298280486\n",
      "3: Customer=B2OFXV5MLA, with distance of 0.31056246493607476\n",
      "4: Customer=046ALH1B3C, with distance of 0.327439913617098\n",
      "Recommendations from model has a similarity of 0.022789255410057607 with actual behavior for Customer: 13BQ8DLFMH \n",
      "\n",
      "Recommendation to customer customer='54SF921LT7' ... \n",
      "\n",
      "Nearest Neighbours of Customer : 54SF921LT7 \n",
      "1: Customer=FLE2I0DJ7N, with distance of 0.028150322498222913\n",
      "2: Customer=GNF9KM82DV, with distance of 0.030377006958170694\n",
      "3: Customer=52FD408KTZ, with distance of 0.03762733964278109\n",
      "4: Customer=CXQGMS8TY9, with distance of 0.03781594771129626\n",
      "Recommendations from model has a similarity of 0.005653812402041769 with actual behavior for Customer: 54SF921LT7 \n",
      "\n",
      "Recommendation to customer customer='4JRW5HBXCS' ... \n",
      "\n",
      "Nearest Neighbours of Customer : 4JRW5HBXCS \n",
      "1: Customer=1MU2VWAXNY, with distance of 0.19546912378269932\n",
      "2: Customer=3XY62PRFNM, with distance of 0.19946185749155665\n",
      "3: Customer=XVKAD9QGFP, with distance of 0.19950109282583695\n",
      "4: Customer=FXQC1734EZ, with distance of 0.20145572893756503\n",
      "Recommendations from model has a similarity of 0.0034145927432843726 with actual behavior for Customer: 4JRW5HBXCS \n",
      "\n",
      "Recommendation to customer customer='5KUGYF49LW' ... \n",
      "\n",
      "Nearest Neighbours of Customer : 5KUGYF49LW \n",
      "1: Customer=FYLSVTRD5A, with distance of 0.14539753465697414\n",
      "2: Customer=1PKZDIOFL2, with distance of 0.20192234166344292\n",
      "3: Customer=LWXA4B8QOH, with distance of 0.22330757065235585\n",
      "4: Customer=M3B89JQNOZ, with distance of 0.24930274840907907\n",
      "Recommendations from model has a similarity of 0.018313195628633427 with actual behavior for Customer: 5KUGYF49LW \n",
      "\n",
      "Recommendation to customer customer='PNX61LMEB4' ... \n",
      "\n",
      "Nearest Neighbours of Customer : PNX61LMEB4 \n",
      "1: Customer=XFTN8VWZMO, with distance of 0.054314710446726866\n",
      "2: Customer=Y72T93CHXL, with distance of 0.054314710446726866\n",
      "3: Customer=C064Z9UXSE, with distance of 0.05846510403072458\n",
      "4: Customer=FNSDHUIYJC, with distance of 0.05846510403072458\n",
      "Recommendations from model has a similarity of 0.06882939133961152 with actual behavior for Customer: PNX61LMEB4 \n",
      "\n",
      "Recommendation to customer customer='3HLJEZYSK7' ... \n",
      "\n",
      "Nearest Neighbours of Customer : 3HLJEZYSK7 \n",
      "1: Customer=0YAKU8QCON, with distance of 0.06382470161426224\n",
      "2: Customer=WCIPSOZJ7M, with distance of 0.06382470161426235\n",
      "3: Customer=GXTSH8743A, with distance of 0.06382470161426235\n",
      "4: Customer=3B5F9W1SEN, with distance of 0.07313919276058733\n",
      "Recommendations from model has a similarity of 0.024398058701479153 with actual behavior for Customer: 3HLJEZYSK7 \n",
      "\n",
      "Recommendation to customer customer='WMU4I16OZN' ... \n",
      "\n",
      "Nearest Neighbours of Customer : WMU4I16OZN \n",
      "1: Customer=ZE36K7R0VY, with distance of 0.009852457023325711\n",
      "2: Customer=5M1Y8PV3IZ, with distance of 0.0160797639220861\n",
      "3: Customer=DRIJF8ZQLS, with distance of 0.019245070818877275\n",
      "4: Customer=7AEW05RBYM, with distance of 0.019607764768580616\n",
      "Recommendations from model has a similarity of 0.29687623051030465 with actual behavior for Customer: WMU4I16OZN \n",
      "\n",
      "Recommendation to customer customer='XKT3E4NUZ9' ... \n",
      "\n",
      "Nearest Neighbours of Customer : XKT3E4NUZ9 \n",
      "1: Customer=5APV0HBKJE, with distance of 0.16844221879314036\n",
      "2: Customer=HF39ALE176, with distance of 0.17489822043875303\n",
      "3: Customer=M3ZU6A25Q8, with distance of 0.20345288605768053\n",
      "4: Customer=X658J23WN0, with distance of 0.22030370539974165\n",
      "Recommendations from model has a similarity of 0.014926537771583148 with actual behavior for Customer: XKT3E4NUZ9 \n",
      "\n",
      "Recommendation to customer customer='TSDFWZMCAE' ... \n",
      "\n",
      "Nearest Neighbours of Customer : TSDFWZMCAE \n",
      "1: Customer=8POHUY35JZ, with distance of 0.003369414116078495\n",
      "2: Customer=GPF3MLXTAY, with distance of 0.005159768461977743\n",
      "3: Customer=5V21TDRZS9, with distance of 0.005159768461977743\n",
      "4: Customer=MSA0NDYE57, with distance of 0.005159788350826311\n",
      "Recommendations from model has a similarity of 0.0 with actual behavior for Customer: TSDFWZMCAE \n",
      "\n",
      "Recommendation to customer customer='IZYDQEC6XU' ... \n",
      "\n",
      "Nearest Neighbours of Customer : IZYDQEC6XU \n",
      "1: Customer=QX83B1SHT5, with distance of 0.27410649893624073\n",
      "2: Customer=N7G2WZD6IF, with distance of 0.29730799277077136\n",
      "3: Customer=YCF9NOAHE3, with distance of 0.3595213343022472\n",
      "4: Customer=K584J9QXIY, with distance of 0.36113666575326264\n",
      "Recommendations from model has a similarity of 0.0796126061608875 with actual behavior for Customer: IZYDQEC6XU \n",
      "\n",
      "Recommendation to customer customer='CW3M5E2XTR' ... \n",
      "\n",
      "Nearest Neighbours of Customer : CW3M5E2XTR \n",
      "1: Customer=VW2C15LFRB, with distance of 0.01888189549475361\n",
      "2: Customer=3JKY58IBR9, with distance of 0.01888189549475361\n",
      "3: Customer=RIHPCZ96LK, with distance of 0.01888189549475361\n",
      "4: Customer=WOQ7G8JH9B, with distance of 0.023375517643575594\n",
      "Recommendations from model has a similarity of 0.49976191305292406 with actual behavior for Customer: CW3M5E2XTR \n",
      "\n",
      "Recommendation to customer customer='W2YI1PCKJ8' ... \n",
      "\n",
      "Nearest Neighbours of Customer : W2YI1PCKJ8 \n",
      "1: Customer=J6KGMOB1QH, with distance of 0.038194728542458534\n",
      "2: Customer=2OHNALEZI7, with distance of 0.04595326504243369\n",
      "3: Customer=LQM3CNYA08, with distance of 0.05696300930576126\n",
      "4: Customer=6BZ859YT0Q, with distance of 0.05696300930576126\n",
      "Recommendations from model has a similarity of 0.08656184253845078 with actual behavior for Customer: W2YI1PCKJ8 \n",
      "\n",
      "Recommendation to customer customer='1PUJRHGA2N' ... \n",
      "\n",
      "Nearest Neighbours of Customer : 1PUJRHGA2N \n",
      "1: Customer=2X6B4KWZ0U, with distance of 0.19013166950953075\n",
      "2: Customer=0BNEXW1SU9, with distance of 0.23900297019269057\n",
      "3: Customer=XV87YGEALB, with distance of 0.24231568715143303\n",
      "4: Customer=2TDLCEZAPG, with distance of 0.24402567720374957\n",
      "Recommendations from model has a similarity of 0.078982346092063 with actual behavior for Customer: 1PUJRHGA2N \n",
      "\n",
      "Recommendation to customer customer='ATNQW1ZYEH' ... \n",
      "\n",
      "Nearest Neighbours of Customer : ATNQW1ZYEH \n",
      "1: Customer=7R5MN36G4S, with distance of 0.22962448471924035\n",
      "2: Customer=WZGD0MLJF6, with distance of 0.24166361966636163\n",
      "3: Customer=QOPM461I5G, with distance of 0.26173776494426293\n",
      "4: Customer=G6SDYBH38V, with distance of 0.26180603721842344\n",
      "Recommendations from model has a similarity of 0.016638991045216045 with actual behavior for Customer: ATNQW1ZYEH \n",
      "\n",
      "Recommendation to customer customer='BJWGPQU430' ... \n",
      "\n",
      "Nearest Neighbours of Customer : BJWGPQU430 \n",
      "1: Customer=3PM6WTF15C, with distance of 0.028444523241329733\n",
      "2: Customer=92KW3Y1FGM, with distance of 0.04633729754500515\n",
      "3: Customer=IGNJ2SYP06, with distance of 0.04652394256146253\n",
      "4: Customer=AVZCK3NQ4Y, with distance of 0.06328288920694447\n",
      "Recommendations from model has a similarity of 0.008616754050491005 with actual behavior for Customer: BJWGPQU430 \n",
      "\n",
      "Recommendation to customer customer='9S4RKCTV3F' ... \n",
      "\n",
      "Nearest Neighbours of Customer : 9S4RKCTV3F \n",
      "1: Customer=PMUIYGE1LX, with distance of 0.14179149156906878\n",
      "2: Customer=A1GIB8J2OW, with distance of 0.20649529237896846\n",
      "3: Customer=0LAM153HBV, with distance of 0.22850990081013955\n",
      "4: Customer=U9HLT0DVAW, with distance of 0.22858001396511585\n",
      "Recommendations from model has a similarity of 0.01725810335151179 with actual behavior for Customer: 9S4RKCTV3F \n",
      "\n",
      "Recommendation to customer customer='4FO61SQAC0' ... \n",
      "\n",
      "Nearest Neighbours of Customer : 4FO61SQAC0 \n",
      "1: Customer=3VWAEJ7P9O, with distance of 0.3075861747018681\n",
      "2: Customer=T4CEBIGP9R, with distance of 0.3172627000799124\n",
      "3: Customer=AVOE2FC1S7, with distance of 0.3357284118793258\n",
      "4: Customer=G2AHDXKQR8, with distance of 0.343098884945528\n",
      "Recommendations from model has a similarity of 0.011544750896298583 with actual behavior for Customer: 4FO61SQAC0 \n",
      "\n",
      "Recommendation to customer customer='KXVICUTGYS' ... \n",
      "\n",
      "Nearest Neighbours of Customer : KXVICUTGYS \n",
      "1: Customer=UXZM5L8KFO, with distance of 0.19361761782670694\n",
      "2: Customer=Y0RW2UQ1CK, with distance of 0.20077334840617966\n",
      "3: Customer=JNHSB6VWYQ, with distance of 0.20215856448988578\n",
      "4: Customer=NEZ7JVRQ4T, with distance of 0.2023833259899348\n",
      "Recommendations from model has a similarity of 0.11013837642789659 with actual behavior for Customer: KXVICUTGYS \n",
      "\n",
      "Recommendation to customer customer='29XLQWYRUI' ... \n",
      "\n",
      "Nearest Neighbours of Customer : 29XLQWYRUI \n",
      "1: Customer=87PK12W3LF, with distance of 0.14747981440614988\n",
      "2: Customer=6K3IOMAUN8, with distance of 0.217677332689016\n",
      "3: Customer=7SWGI9B30H, with distance of 0.2535471703645106\n",
      "4: Customer=BJ7Q6G4WSZ, with distance of 0.2606984316865826\n",
      "Recommendations from model has a similarity of 0.07521403083528888 with actual behavior for Customer: 29XLQWYRUI \n",
      "\n",
      "Recommendation to customer customer='A8YM7OX9WZ' ... \n",
      "\n",
      "Nearest Neighbours of Customer : A8YM7OX9WZ \n",
      "1: Customer=1IJVZSXGYH, with distance of 0.011884722118746471\n",
      "2: Customer=ZPLO0CNMH8, with distance of 0.011884722118746471\n",
      "3: Customer=I6JB8XYMUT, with distance of 0.014345785162861557\n",
      "4: Customer=2PWTMR4ZI1, with distance of 0.02162008542816285\n"
     ]
    },
    {
     "name": "stdout",
     "output_type": "stream",
     "text": [
      "Recommendations from model has a similarity of 0.1053669737337386 with actual behavior for Customer: A8YM7OX9WZ \n",
      "\n",
      "Recommendation to customer customer='TNWS71CYGB' ... \n",
      "\n",
      "Nearest Neighbours of Customer : TNWS71CYGB \n",
      "1: Customer=H5D0OINCK2, with distance of 0.2283426467520474\n",
      "2: Customer=VLYAEMGK1Z, with distance of 0.2998480447497691\n",
      "3: Customer=TS8MWC1FEV, with distance of 0.3003424066613549\n",
      "4: Customer=KL5MFDVJCH, with distance of 0.3083730735717165\n",
      "Recommendations from model has a similarity of 0.0012103474884040955 with actual behavior for Customer: TNWS71CYGB \n",
      "\n",
      "Recommendation to customer customer='RXZM0PW8HD' ... \n",
      "\n",
      "Nearest Neighbours of Customer : RXZM0PW8HD \n",
      "1: Customer=KLEN7QI24C, with distance of 0.14980196827446757\n",
      "2: Customer=W6OGI3QEV1, with distance of 0.18899959790590115\n",
      "3: Customer=D3SLQ5OWFI, with distance of 0.18899959790590115\n",
      "4: Customer=NEBOPU6ASL, with distance of 0.18899959790590115\n",
      "Recommendations from model has a similarity of 0.005188827253965633 with actual behavior for Customer: RXZM0PW8HD \n",
      "\n",
      "Recommendation to customer customer='DZJAOW2UPN' ... \n",
      "\n",
      "Nearest Neighbours of Customer : DZJAOW2UPN \n",
      "1: Customer=VBD4CL3AOP, with distance of 0.19468277757364794\n",
      "2: Customer=Q6TKW1XEJ4, with distance of 0.2779337645230068\n",
      "3: Customer=8CF3MS69WP, with distance of 0.28624713130076873\n",
      "4: Customer=WFXSD2KQBP, with distance of 0.28658770820927293\n",
      "Recommendations from model has a similarity of 0.020953905242296456 with actual behavior for Customer: DZJAOW2UPN \n",
      "\n",
      "Recommendation to customer customer='50WSTILAKC' ... \n",
      "\n",
      "Nearest Neighbours of Customer : 50WSTILAKC \n",
      "1: Customer=KLOP13XEM9, with distance of 0.17119318386282223\n",
      "2: Customer=372OVKSWAU, with distance of 0.27664019310407584\n",
      "3: Customer=MN9VUG8RY1, with distance of 0.32180497858083235\n",
      "4: Customer=ZVXTFR6I04, with distance of 0.3612782858117778\n",
      "Recommendations from model has a similarity of 0.14411056725641136 with actual behavior for Customer: 50WSTILAKC \n",
      "\n",
      "Recommendation to customer customer='3EUI4KQBNS' ... \n",
      "\n",
      "Nearest Neighbours of Customer : 3EUI4KQBNS \n",
      "1: Customer=NWDLF3THVQ, with distance of 0.27764232073741546\n",
      "2: Customer=SBWPAO6VR8, with distance of 0.3121308086145719\n",
      "3: Customer=C69KGNEDLJ, with distance of 0.31601633249211347\n",
      "4: Customer=M35WXSPI0Z, with distance of 0.31994815087045814\n",
      "Recommendations from model has a similarity of 0.019897767974507152 with actual behavior for Customer: 3EUI4KQBNS \n",
      "\n",
      "Recommendation to customer customer='Z49UENV2BK' ... \n",
      "\n",
      "Nearest Neighbours of Customer : Z49UENV2BK \n",
      "1: Customer=FPY9UZHXCG, with distance of 0.2476972073406355\n",
      "2: Customer=CDLHM35QX9, with distance of 0.2868544714343344\n",
      "3: Customer=6VYL28Q4EB, with distance of 0.3270717616272091\n",
      "4: Customer=YE5ZAKMF9H, with distance of 0.3323602617626219\n",
      "Recommendations from model has a similarity of 0.2718213286987168 with actual behavior for Customer: Z49UENV2BK \n",
      "\n",
      "Recommendation to customer customer='XSYKZPUVCF' ... \n",
      "\n",
      "Nearest Neighbours of Customer : XSYKZPUVCF \n",
      "1: Customer=IM23COLPRU, with distance of 0.2336680818249689\n",
      "2: Customer=B5RIDN34OZ, with distance of 0.25259741003936764\n",
      "3: Customer=L1R9CI0X6B, with distance of 0.2553281895078241\n",
      "4: Customer=DF1ERWSH5T, with distance of 0.25639890088454464\n",
      "Recommendations from model has a similarity of 0.0015005525301396982 with actual behavior for Customer: XSYKZPUVCF \n",
      "\n",
      "Recommendation to customer customer='83MC0AKENT' ... \n",
      "\n",
      "Nearest Neighbours of Customer : 83MC0AKENT \n",
      "1: Customer=69HJKACT37, with distance of 0.1531218574118416\n",
      "2: Customer=MHE9OCYL36, with distance of 0.15369916417338692\n",
      "3: Customer=AKX5IZ0YHN, with distance of 0.16641343042459877\n",
      "4: Customer=U76QGV4J3E, with distance of 0.19186477020595516\n",
      "Recommendations from model has a similarity of 0.03414373936277404 with actual behavior for Customer: 83MC0AKENT \n",
      "\n",
      "Recommendation to customer customer='5DF2TRH6X1' ... \n",
      "\n",
      "Nearest Neighbours of Customer : 5DF2TRH6X1 \n",
      "1: Customer=7VUEHO3L5J, with distance of 0.34455993727609635\n",
      "2: Customer=NRK19TY4IL, with distance of 0.34504093691091575\n",
      "3: Customer=3QRZ9U8VDS, with distance of 0.35034509098039\n",
      "4: Customer=Y83UWI59RF, with distance of 0.3543147932573465\n",
      "Recommendations from model has a similarity of 0.19365256240434625 with actual behavior for Customer: 5DF2TRH6X1 \n",
      "\n",
      "Recommendation to customer customer='XYAVE8FJGN' ... \n",
      "\n",
      "Nearest Neighbours of Customer : XYAVE8FJGN \n",
      "1: Customer=LTE6HZRU7D, with distance of 0.14641656777775536\n",
      "2: Customer=52EG3XKAQH, with distance of 0.17149979812021998\n",
      "3: Customer=X30JVD65KH, with distance of 0.20184181000451384\n",
      "4: Customer=CG9047I3UA, with distance of 0.2096281532266513\n",
      "Recommendations from model has a similarity of 0.020935336518305814 with actual behavior for Customer: XYAVE8FJGN \n",
      "\n",
      "Recommendation to customer customer='MCVQ6B2TL5' ... \n",
      "\n",
      "Nearest Neighbours of Customer : MCVQ6B2TL5 \n",
      "1: Customer=V0NP6RK7ED, with distance of 0.29601648337994857\n",
      "2: Customer=O8XGPR27ZT, with distance of 0.3416810419399309\n",
      "3: Customer=TG79SHNLUV, with distance of 0.34168708848195206\n",
      "4: Customer=YCH3A8L4TI, with distance of 0.34181201739692424\n",
      "Recommendations from model has a similarity of 0.03836939399485151 with actual behavior for Customer: MCVQ6B2TL5 \n",
      "\n",
      "Recommendation to customer customer='N5J10CQ7PI' ... \n",
      "\n",
      "Nearest Neighbours of Customer : N5J10CQ7PI \n",
      "1: Customer=831MS0TGU4, with distance of 0.04688522883031132\n",
      "2: Customer=3E8DRUOALN, with distance of 0.056990760612791735\n",
      "3: Customer=BCGIUT95A7, with distance of 0.07440937730402708\n",
      "4: Customer=F5PG6XQE17, with distance of 0.08286522840488075\n",
      "Recommendations from model has a similarity of 0.012197290974625852 with actual behavior for Customer: N5J10CQ7PI \n",
      "\n",
      "Recommendation to customer customer='FDUT3KEWY4' ... \n",
      "\n",
      "Nearest Neighbours of Customer : FDUT3KEWY4 \n",
      "1: Customer=32NRA9XO6D, with distance of 0.17698503716490177\n",
      "2: Customer=TC536NHJXU, with distance of 0.19530419111251618\n",
      "3: Customer=KRT64IFPX1, with distance of 0.19530419111251618\n",
      "4: Customer=F53N6SU7IG, with distance of 0.19608485196433467\n",
      "Recommendations from model has a similarity of 0.12714773668232304 with actual behavior for Customer: FDUT3KEWY4 \n",
      "\n",
      "Recommendation to customer customer='2CAYTGQUB4' ... \n",
      "\n",
      "Nearest Neighbours of Customer : 2CAYTGQUB4 \n",
      "1: Customer=V45JR6QX17, with distance of 0.2584147803838228\n",
      "2: Customer=GLQ38JVXAZ, with distance of 0.2774634196238932\n",
      "3: Customer=VSNPBTLRIC, with distance of 0.30448139490667836\n",
      "4: Customer=X381YD6GRL, with distance of 0.3136181011603715\n",
      "Recommendations from model has a similarity of 0.014533534856251085 with actual behavior for Customer: 2CAYTGQUB4 \n",
      "\n",
      "Recommendation to customer customer='L0YPC5EQF1' ... \n",
      "\n",
      "Nearest Neighbours of Customer : L0YPC5EQF1 \n",
      "1: Customer=D1U6QMXIWY, with distance of 0.18517678420399175\n",
      "2: Customer=TS453XDPZ0, with distance of 0.2524255891127608\n",
      "3: Customer=10I8FXQL3P, with distance of 0.25550334647540984\n",
      "4: Customer=L6GHJ508C2, with distance of 0.2612304634273819\n",
      "Recommendations from model has a similarity of 0.08398565500951427 with actual behavior for Customer: L0YPC5EQF1 \n",
      "\n",
      "Recommendation to customer customer='471NOURGMF' ... \n",
      "\n",
      "Nearest Neighbours of Customer : 471NOURGMF \n",
      "1: Customer=6TPZ2IHG3E, with distance of 0.1505576949121974\n",
      "2: Customer=8J1EOW73P2, with distance of 0.15087824209016487\n",
      "3: Customer=EFNTQXVJOA, with distance of 0.165362517225225\n",
      "4: Customer=VRYL9EPQAJ, with distance of 0.16616057784175453\n",
      "Recommendations from model has a similarity of 0.02070193129010356 with actual behavior for Customer: 471NOURGMF \n",
      "\n",
      "Recommendation to customer customer='3IHVL7D6UT' ... \n",
      "\n",
      "Nearest Neighbours of Customer : 3IHVL7D6UT \n",
      "1: Customer=MKCTIX9SVQ, with distance of 0.02510749704963955\n",
      "2: Customer=X04UAITGLN, with distance of 0.14111880550107248\n",
      "3: Customer=B1VNGFU6ZI, with distance of 0.1457980600839086\n",
      "4: Customer=T24R5W39CV, with distance of 0.19422935704496191\n",
      "Recommendations from model has a similarity of 0.005189736066994244 with actual behavior for Customer: 3IHVL7D6UT \n",
      "\n",
      "Recommendation to customer customer='RZ3M4WN80P' ... \n",
      "\n",
      "Nearest Neighbours of Customer : RZ3M4WN80P \n",
      "1: Customer=U5NVLRQOGM, with distance of 0.14955610103001682\n",
      "2: Customer=C7YFAK0W6S, with distance of 0.16964385453440634\n",
      "3: Customer=XMS6A2BGH4, with distance of 0.1704421898537095\n",
      "4: Customer=VQRYIX6CJS, with distance of 0.1709850997277923\n"
     ]
    },
    {
     "name": "stdout",
     "output_type": "stream",
     "text": [
      "Recommendations from model has a similarity of 0.03407472820146307 with actual behavior for Customer: RZ3M4WN80P \n",
      "\n",
      "Recommendation to customer customer='6TZK31C49H' ... \n",
      "\n",
      "Nearest Neighbours of Customer : 6TZK31C49H \n",
      "1: Customer=JU1O23FZVW, with distance of 0.23258939684968238\n",
      "2: Customer=317IM589HT, with distance of 0.24170003853298194\n",
      "3: Customer=27TDS5C0P8, with distance of 0.24748818496459002\n",
      "4: Customer=6GF1HPKDZW, with distance of 0.2573934198120368\n",
      "Recommendations from model has a similarity of 0.006637474876535987 with actual behavior for Customer: 6TZK31C49H \n",
      "\n",
      "Recommendation to customer customer='ZY8W7JAF12' ... \n",
      "\n",
      "Nearest Neighbours of Customer : ZY8W7JAF12 \n",
      "1: Customer=B4IFYD1UZV, with distance of 0.22385970317140935\n",
      "2: Customer=TMG9C7HDWJ, with distance of 0.24576124807026212\n",
      "3: Customer=WODCL4E0X6, with distance of 0.24590622428533104\n",
      "4: Customer=E3AMUO5NFG, with distance of 0.2546347098785495\n",
      "Recommendations from model has a similarity of 0.05935872200758596 with actual behavior for Customer: ZY8W7JAF12 \n",
      "\n",
      "Recommendation to customer customer='OFC69A8VD4' ... \n",
      "\n",
      "Nearest Neighbours of Customer : OFC69A8VD4 \n",
      "1: Customer=XDNWKZ790Y, with distance of 0.037492433740173636\n",
      "2: Customer=EWLUCK3D76, with distance of 0.038016731821871486\n",
      "3: Customer=6YLZ709PIK, with distance of 0.038112915721344565\n",
      "4: Customer=9416CY8RQ0, with distance of 0.038112915721344565\n",
      "Recommendations from model has a similarity of 0.026670905394376998 with actual behavior for Customer: OFC69A8VD4 \n",
      "\n",
      "Recommendation to customer customer='21IYZNUX4L' ... \n",
      "\n",
      "Nearest Neighbours of Customer : 21IYZNUX4L \n",
      "1: Customer=Q2W3NIL75M, with distance of 0.054276549483285086\n",
      "2: Customer=E714L8U9RK, with distance of 0.05445836693195505\n",
      "3: Customer=P6YUFK531B, with distance of 0.05464007955649608\n",
      "4: Customer=HON0YU2RJQ, with distance of 0.05464007955649608\n",
      "Recommendations from model has a similarity of 0.006265235395278235 with actual behavior for Customer: 21IYZNUX4L \n",
      "\n",
      "Recommendation to customer customer='CESBJ2KW47' ... \n",
      "\n",
      "Nearest Neighbours of Customer : CESBJ2KW47 \n",
      "1: Customer=KWANU2G1QH, with distance of 0.20908601603823973\n",
      "2: Customer=13QL62XNBO, with distance of 0.22945321416142184\n",
      "3: Customer=WT62YBSH49, with distance of 0.23452438090805416\n",
      "4: Customer=J6G3O5HZX7, with distance of 0.262009606538412\n",
      "Recommendations from model has a similarity of 0.23227409295306478 with actual behavior for Customer: CESBJ2KW47 \n",
      "\n",
      "Recommendation to customer customer='59FN1K62LA' ... \n",
      "\n",
      "Nearest Neighbours of Customer : 59FN1K62LA \n",
      "1: Customer=9BOD65W13R, with distance of 0.31301312697241834\n",
      "2: Customer=PMQ1NIFA4Z, with distance of 0.3367522454433022\n",
      "3: Customer=6VET31Z5NW, with distance of 0.34260448676585453\n",
      "4: Customer=ZIXETGHB7V, with distance of 0.35425301190170067\n",
      "Recommendations from model has a similarity of 0.027616494734651553 with actual behavior for Customer: 59FN1K62LA \n",
      "\n",
      "Recommendation to customer customer='045789SC6O' ... \n",
      "\n",
      "Nearest Neighbours of Customer : 045789SC6O \n",
      "1: Customer=9UZAHTJNCX, with distance of 0.17835582134858907\n",
      "2: Customer=BQ4CDPW3E8, with distance of 0.18330518062797618\n",
      "3: Customer=WHT95XNI31, with distance of 0.19082618051333644\n",
      "4: Customer=YFUR4IO5AK, with distance of 0.19827628297754885\n",
      "Recommendations from model has a similarity of 0.023538560545749654 with actual behavior for Customer: 045789SC6O \n",
      "\n",
      "Recommendation to customer customer='VKI4DXPHM0' ... \n",
      "\n",
      "Nearest Neighbours of Customer : VKI4DXPHM0 \n",
      "1: Customer=0KM7V9T8J1, with distance of 0.04357339126717941\n",
      "2: Customer=83QSYG4C9U, with distance of 0.054646512414402104\n",
      "3: Customer=T0B549CF1R, with distance of 0.054646512414402104\n",
      "4: Customer=VWL1JT5FBO, with distance of 0.054746482162104204\n",
      "Recommendations from model has a similarity of 0.0028351262975532254 with actual behavior for Customer: VKI4DXPHM0 \n",
      "\n",
      "Recommendation to customer customer='1IUSEPF52G' ... \n",
      "\n",
      "Nearest Neighbours of Customer : 1IUSEPF52G \n",
      "1: Customer=NUW4LYC91F, with distance of 0.18611027421148663\n",
      "2: Customer=3IRV5LG7ZW, with distance of 0.18790433453522315\n",
      "3: Customer=6KCHYLMXQT, with distance of 0.22196242591591597\n",
      "4: Customer=ARLUVETJ8S, with distance of 0.24374053080572455\n",
      "Recommendations from model has a similarity of 0.0846453868237369 with actual behavior for Customer: 1IUSEPF52G \n",
      "\n",
      "Recommendation to customer customer='UTZL1BD2YK' ... \n",
      "\n",
      "Nearest Neighbours of Customer : UTZL1BD2YK \n",
      "1: Customer=0ANJCF197D, with distance of 0.02439242030002542\n",
      "2: Customer=J57VSH36YZ, with distance of 0.1715217379386169\n",
      "3: Customer=RSP2ATK1HD, with distance of 0.17579291790823448\n",
      "4: Customer=K5UMTIJQX7, with distance of 0.17579291790823448\n",
      "Recommendations from model has a similarity of 0.009619822001113998 with actual behavior for Customer: UTZL1BD2YK \n",
      "\n",
      "Recommendation to customer customer='S0F57KBVYQ' ... \n",
      "\n",
      "Nearest Neighbours of Customer : S0F57KBVYQ \n",
      "1: Customer=WOQFGSU5TL, with distance of 0.1804949389422721\n",
      "2: Customer=VCGBRUN5QS, with distance of 0.29323963941635856\n",
      "3: Customer=EDA7GJL1X2, with distance of 0.29837828132272926\n",
      "4: Customer=UGTM0OCJNI, with distance of 0.30013436130518223\n",
      "Recommendations from model has a similarity of 0.20150012883576296 with actual behavior for Customer: S0F57KBVYQ \n",
      "\n",
      "Recommendation to customer customer='N0BDKHW36X' ... \n",
      "\n",
      "Nearest Neighbours of Customer : N0BDKHW36X \n",
      "1: Customer=C61I0R5OUZ, with distance of 0.09272796814142081\n",
      "2: Customer=Q3KWASZY16, with distance of 0.10376600377237766\n",
      "3: Customer=LSA7EOVCHF, with distance of 0.12098405635405685\n",
      "4: Customer=X4QJ3F1Z0E, with distance of 0.1286554004528574\n",
      "Recommendations from model has a similarity of 0.01220656702761791 with actual behavior for Customer: N0BDKHW36X \n",
      "\n",
      "Recommendation to customer customer='OCSE7KPI62' ... \n",
      "\n",
      "Nearest Neighbours of Customer : OCSE7KPI62 \n",
      "1: Customer=Q5F4CBL8Z2, with distance of 0.11134741540161164\n",
      "2: Customer=EH9ZQRJF25, with distance of 0.14590964812245089\n",
      "3: Customer=CM8OXNRSTB, with distance of 0.18377544859204387\n",
      "4: Customer=OAUB8HR4NY, with distance of 0.18377544859204387\n",
      "Recommendations from model has a similarity of 0.2123715675871405 with actual behavior for Customer: OCSE7KPI62 \n",
      "\n",
      "Recommendation to customer customer='6JAX92B1G5' ... \n",
      "\n",
      "Nearest Neighbours of Customer : 6JAX92B1G5 \n",
      "1: Customer=OQU01F6GKM, with distance of 0.24524821965283716\n",
      "2: Customer=W5LTU14MX3, with distance of 0.24539520627119626\n",
      "3: Customer=KRFQ3UC10W, with distance of 0.3279665010962486\n",
      "4: Customer=2RYGT974VO, with distance of 0.33853431659243394\n",
      "Recommendations from model has a similarity of 0.00452771469382407 with actual behavior for Customer: 6JAX92B1G5 \n",
      "\n",
      "Recommendation to customer customer='PLK8Y4OR1S' ... \n",
      "\n",
      "Nearest Neighbours of Customer : PLK8Y4OR1S \n",
      "1: Customer=W1K5LRDVEN, with distance of 0.0024906638923672952\n",
      "2: Customer=1IA9US2OMN, with distance of 0.0026901059289717866\n",
      "3: Customer=TX621BWDE5, with distance of 0.012415399030724528\n",
      "4: Customer=PBLMH9CSX5, with distance of 0.012512187838814026\n",
      "Recommendations from model has a similarity of 0.00042547480995203113 with actual behavior for Customer: PLK8Y4OR1S \n",
      "\n",
      "Recommendation to customer customer='B3MVQ7JFN6' ... \n",
      "\n",
      "Nearest Neighbours of Customer : B3MVQ7JFN6 \n",
      "1: Customer=UQITM8OC5E, with distance of 0.28633759197824493\n",
      "2: Customer=KRPNEFY083, with distance of 0.29905891492162084\n",
      "3: Customer=E8YASD7OKQ, with distance of 0.3036418650670959\n",
      "4: Customer=TIXFENZ1YU, with distance of 0.30559291227085017\n",
      "Recommendations from model has a similarity of 0.00048448241174847695 with actual behavior for Customer: B3MVQ7JFN6 \n",
      "\n",
      "Recommendation to customer customer='MA1O7E4B2F' ... \n",
      "\n",
      "Nearest Neighbours of Customer : MA1O7E4B2F \n",
      "1: Customer=GB5FYM7DP9, with distance of 0.28255052011684223\n",
      "2: Customer=0FXYJI53VL, with distance of 0.30591068995980697\n",
      "3: Customer=X12F7QLHBE, with distance of 0.306278241115458\n",
      "4: Customer=DFRCT1MS02, with distance of 0.3341834151958484\n",
      "Recommendations from model has a similarity of 0.06194068480077719 with actual behavior for Customer: MA1O7E4B2F \n",
      "\n",
      "Recommendation to customer customer='U12ZPKJ7YI' ... \n",
      "\n",
      "Nearest Neighbours of Customer : U12ZPKJ7YI \n",
      "1: Customer=91KSTWUBH8, with distance of 0.12245738672489459\n",
      "2: Customer=WR75N3FHAT, with distance of 0.17998126762153244\n",
      "3: Customer=3D6V724CSW, with distance of 0.23308010742754748\n",
      "4: Customer=LHTP37EBNW, with distance of 0.2331568032456547\n",
      "Recommendations from model has a similarity of 0.2855756155863163 with actual behavior for Customer: U12ZPKJ7YI \n",
      "\n",
      "Recommendation to customer customer='F9Z8W7TN0B' ... \n",
      "\n",
      "Nearest Neighbours of Customer : F9Z8W7TN0B \n",
      "1: Customer=F3PZD7EUQG, with distance of 0.23758335688570642\n",
      "2: Customer=2JY97OFDN8, with distance of 0.25953985382820843\n",
      "3: Customer=0FS82LX5EJ, with distance of 0.2611472112048321\n",
      "4: Customer=U82O5D1H7N, with distance of 0.2649580946691832\n"
     ]
    },
    {
     "name": "stdout",
     "output_type": "stream",
     "text": [
      "Recommendations from model has a similarity of 0.016423356339039796 with actual behavior for Customer: F9Z8W7TN0B \n",
      "\n",
      "Recommendation to customer customer='9PR5CSU31T' ... \n",
      "\n",
      "Nearest Neighbours of Customer : 9PR5CSU31T \n",
      "1: Customer=F3XBLCO8YU, with distance of 0.1294773598458583\n",
      "2: Customer=Z65F7CBD0G, with distance of 0.16056992862554564\n",
      "3: Customer=XCIAHBR32S, with distance of 0.18507395162406315\n",
      "4: Customer=D46RH9PBZV, with distance of 0.19286568772873824\n",
      "Recommendations from model has a similarity of 0.18280884932161057 with actual behavior for Customer: 9PR5CSU31T \n",
      "\n",
      "Recommendation to customer customer='0YOZLG3RKN' ... \n",
      "\n",
      "Nearest Neighbours of Customer : 0YOZLG3RKN \n",
      "1: Customer=VIWXPZ85FT, with distance of 0.010143548472502317\n",
      "2: Customer=423H1VY8LG, with distance of 0.0126089481949484\n",
      "3: Customer=J9HCFWAR43, with distance of 0.015056017760848195\n",
      "4: Customer=2GQU3P9EJF, with distance of 0.019848023487477717\n",
      "Recommendations from model has a similarity of 0.21152749567806028 with actual behavior for Customer: 0YOZLG3RKN \n",
      "\n",
      "Recommendation to customer customer='ED9STO4IB7' ... \n",
      "\n",
      "Nearest Neighbours of Customer : ED9STO4IB7 \n",
      "1: Customer=X69GFIYTQN, with distance of 0.23793215902929543\n",
      "2: Customer=7HUI2MN80L, with distance of 0.279174564480425\n",
      "3: Customer=B4DSOFW30I, with distance of 0.3027199452115328\n",
      "4: Customer=8QTNCZGAB9, with distance of 0.3190160877525605\n",
      "Recommendations from model has a similarity of 0.3838242260496678 with actual behavior for Customer: ED9STO4IB7 \n",
      "\n",
      "Recommendation to customer customer='P9F1GAWVM3' ... \n",
      "\n",
      "Nearest Neighbours of Customer : P9F1GAWVM3 \n",
      "1: Customer=OWHF1VMAIU, with distance of 0.06242243913757095\n",
      "2: Customer=A7P068JBEM, with distance of 0.07886860726795031\n",
      "3: Customer=UJOCBE1TY2, with distance of 0.09590735202551481\n",
      "4: Customer=LF9TNJ28V5, with distance of 0.09597461723319123\n",
      "Recommendations from model has a similarity of 0.016271029983862872 with actual behavior for Customer: P9F1GAWVM3 \n",
      "\n",
      "Recommendation to customer customer='VDQ4XS56CF' ... \n",
      "\n",
      "Nearest Neighbours of Customer : VDQ4XS56CF \n",
      "1: Customer=F9KNTU3QI2, with distance of 0.29216145889542733\n",
      "2: Customer=VXG5BH2U9S, with distance of 0.31081059130457234\n",
      "3: Customer=8FZSCYML4K, with distance of 0.31864039625913143\n",
      "4: Customer=T4QAUE57HX, with distance of 0.32878245262917805\n",
      "Recommendations from model has a similarity of 0.010643572182275074 with actual behavior for Customer: VDQ4XS56CF \n",
      "\n",
      "Recommendation to customer customer='HBVIG82PTA' ... \n",
      "\n",
      "Nearest Neighbours of Customer : HBVIG82PTA \n",
      "1: Customer=Y4UEZSX603, with distance of 0.2097762322624751\n",
      "2: Customer=K1WLSQB8DJ, with distance of 0.2097762322624751\n",
      "3: Customer=USA42DNQTL, with distance of 0.2097762322624751\n",
      "4: Customer=LTY2QH6WR9, with distance of 0.2097762322624751\n",
      "Recommendations from model has a similarity of 0.017864169935103646 with actual behavior for Customer: HBVIG82PTA \n",
      "\n",
      "Recommendation to customer customer='FO2LECSA9R' ... \n",
      "\n",
      "Nearest Neighbours of Customer : FO2LECSA9R \n",
      "1: Customer=XGKQRHSED0, with distance of 0.03913897200811489\n",
      "2: Customer=FKQ7OAV1ZE, with distance of 0.19962191710377486\n",
      "3: Customer=SLQG9DA4IM, with distance of 0.19962191710377486\n",
      "4: Customer=ENR5JQ3SOT, with distance of 0.19984630650883384\n",
      "Recommendations from model has a similarity of 0.19975367548213419 with actual behavior for Customer: FO2LECSA9R \n",
      "\n",
      "Recommendation to customer customer='RI6M7LJAXU' ... \n",
      "\n",
      "Nearest Neighbours of Customer : RI6M7LJAXU \n",
      "1: Customer=U2GFK1WQR5, with distance of 0.005536153075994199\n",
      "2: Customer=DWKE8JQSHA, with distance of 0.010422982880533782\n",
      "3: Customer=XIBOD2NKY9, with distance of 0.016843156148806493\n",
      "4: Customer=OPNHW6JCU0, with distance of 0.016843156148806493\n",
      "Recommendations from model has a similarity of 0.0006501507699826492 with actual behavior for Customer: RI6M7LJAXU \n",
      "\n",
      "Recommendation to customer customer='0Y92SAKR1B' ... \n",
      "\n",
      "Nearest Neighbours of Customer : 0Y92SAKR1B \n",
      "1: Customer=BRI4NJD8VE, with distance of 0.04384044463085024\n",
      "2: Customer=GXDOW0Z4SU, with distance of 0.2007277187133638\n",
      "3: Customer=5U6DJ0IEWO, with distance of 0.20342231110067144\n",
      "4: Customer=JWEC0TK5L4, with distance of 0.20488919213993095\n",
      "Recommendations from model has a similarity of 0.06818471134740611 with actual behavior for Customer: 0Y92SAKR1B \n",
      "\n",
      "Recommendation to customer customer='58L0UE92RF' ... \n",
      "\n",
      "Nearest Neighbours of Customer : 32LDHF0S8C \n",
      "1: Customer=7L4U6EGZ1N, with distance of 0.0\n",
      "2: Customer=EUBZ85JXDN, with distance of 0.0\n",
      "3: Customer=NG6LRWQZDI, with distance of 0.0\n",
      "4: Customer=RLTY148K9P, with distance of 0.0\n",
      "Recommendations from model has a similarity of 0.030160732581724137 with actual behavior for Customer: 58L0UE92RF \n",
      "\n",
      "Recommendation to customer customer='XNTUKO6G1F' ... \n",
      "\n",
      "Nearest Neighbours of Customer : XNTUKO6G1F \n",
      "1: Customer=W1JBFLI25N, with distance of 0.009852457023325711\n",
      "2: Customer=8WVUT9MDJA, with distance of 0.0474946306287547\n",
      "3: Customer=J6GU0L3F8Q, with distance of 0.07337311887228937\n",
      "4: Customer=4692MANLBT, with distance of 0.09069435347628818\n",
      "Recommendations from model has a similarity of 0.12670041946164923 with actual behavior for Customer: XNTUKO6G1F \n",
      "\n",
      "Recommendation to customer customer='8B1HLTNO92' ... \n",
      "\n",
      "Nearest Neighbours of Customer : 8B1HLTNO92 \n",
      "1: Customer=G0OJFIT9LZ, with distance of 0.019702061786923464\n",
      "2: Customer=UFKYOZQAPG, with distance of 0.029455551845880334\n",
      "3: Customer=TDWK5ZIE7X, with distance of 0.03891610971702897\n",
      "4: Customer=DGXYQUI8N0, with distance of 0.06752402509274613\n",
      "Recommendations from model has a similarity of 0.01672534035962525 with actual behavior for Customer: 8B1HLTNO92 \n",
      "\n",
      "Recommendation to customer customer='I64XZ1OGVH' ... \n",
      "\n",
      "Nearest Neighbours of Customer : I64XZ1OGVH \n",
      "1: Customer=SKVR6JWPHI, with distance of 0.17741880894326156\n",
      "2: Customer=T1E3ZMVI5B, with distance of 0.18740345458634067\n",
      "3: Customer=M9BJN4F3HG, with distance of 0.22680333342188974\n",
      "4: Customer=4KNA6TM1YW, with distance of 0.23241745139053327\n",
      "Recommendations from model has a similarity of 0.08328300802455668 with actual behavior for Customer: I64XZ1OGVH \n",
      "\n",
      "Recommendation to customer customer='SV20TNXIMF' ... \n",
      "\n",
      "Nearest Neighbours of Customer : SV20TNXIMF \n",
      "1: Customer=NUJZG8W6I4, with distance of 0.10992952909390064\n",
      "2: Customer=H6XVBMPI4Q, with distance of 0.22673214765265637\n",
      "3: Customer=GJQIN7E05K, with distance of 0.2531928173399334\n",
      "4: Customer=6RHBLVCSTG, with distance of 0.253873904683258\n",
      "Recommendations from model has a similarity of 0.033118241310611696 with actual behavior for Customer: SV20TNXIMF \n",
      "\n",
      "Recommendation to customer customer='UCBSXDGJ5M' ... \n",
      "\n",
      "Nearest Neighbours of Customer : UCBSXDGJ5M \n",
      "1: Customer=P7I9FBH24V, with distance of 0.25169204450121785\n",
      "2: Customer=R12BGZSYMI, with distance of 0.28106363040450266\n",
      "3: Customer=M1CXZ6FPJ7, with distance of 0.28177946595283987\n",
      "4: Customer=P8GEJIMHO2, with distance of 0.29121050596764075\n",
      "Recommendations from model has a similarity of 0.1239611105187518 with actual behavior for Customer: UCBSXDGJ5M \n",
      "\n",
      "Recommendation to customer customer='053TVCZEMS' ... \n",
      "\n",
      "Nearest Neighbours of Customer : 053TVCZEMS \n",
      "1: Customer=MCGQKLJWYE, with distance of 0.029122756371942282\n",
      "2: Customer=JDYFXS3R91, with distance of 0.19695796187031978\n",
      "3: Customer=91YBILMOFG, with distance of 0.20464403037951917\n",
      "4: Customer=65P70HT4XW, with distance of 0.20464404628027777\n",
      "Recommendations from model has a similarity of 0.22051177081996032 with actual behavior for Customer: 053TVCZEMS \n",
      "\n",
      "Recommendation to customer customer='D89TAJKLYW' ... \n",
      "\n",
      "Nearest Neighbours of Customer : D89TAJKLYW \n",
      "1: Customer=ZFJ1R39BDP, with distance of 0.2929800975678698\n",
      "2: Customer=R4B0CSOQYT, with distance of 0.30566978770684183\n",
      "3: Customer=SX51VPIJU2, with distance of 0.32640149713388966\n",
      "4: Customer=0ERS4GIZUF, with distance of 0.33713852303239\n",
      "Recommendations from model has a similarity of 0.014499145799315216 with actual behavior for Customer: D89TAJKLYW \n",
      "\n",
      "Recommendation to customer customer='WUXVSZLEKF' ... \n",
      "\n",
      "Nearest Neighbours of Customer : WUXVSZLEKF \n",
      "1: Customer=9UZ1G7EL0Y, with distance of 0.22627997077121353\n",
      "2: Customer=FG1TEPCRB4, with distance of 0.26234571373613647\n",
      "3: Customer=EN41PST57F, with distance of 0.2720566859484388\n",
      "4: Customer=1JC7B9R4KG, with distance of 0.2730887503020234\n",
      "Recommendations from model has a similarity of 0.08134136088874377 with actual behavior for Customer: WUXVSZLEKF \n",
      "\n",
      "Recommendation to customer customer='7Z39WMB6SN' ... \n",
      "\n",
      "Nearest Neighbours of Customer : 7Z39WMB6SN \n",
      "1: Customer=JP3L1NDES7, with distance of 0.00516175754571524\n",
      "2: Customer=R2DJ4LOZF9, with distance of 0.03362560772489598\n",
      "3: Customer=0HCXVPDN86, with distance of 0.07163185798156935\n",
      "4: Customer=L74A8CKVWQ, with distance of 0.15830358523321642\n",
      "Recommendations from model has a similarity of 0.0 with actual behavior for Customer: 7Z39WMB6SN \n",
      "\n",
      "Recommendation to customer customer='R4UXTOM15B' ... \n",
      "\n",
      "Nearest Neighbours of Customer : R4UXTOM15B \n",
      "1: Customer=UN7M206A4Z, with distance of 0.00029986506746471076\n",
      "2: Customer=LMFU8SE3C5, with distance of 0.009959030092202115\n",
      "3: Customer=Z9IMURSCJO, with distance of 0.019807610936950493\n",
      "4: Customer=CBZDAG0X8F, with distance of 0.02839918369518568\n"
     ]
    },
    {
     "name": "stdout",
     "output_type": "stream",
     "text": [
      "Recommendations from model has a similarity of 0.24561173784059231 with actual behavior for Customer: R4UXTOM15B \n",
      "\n",
      "Recommendation to customer customer='27RUJP3KWE' ... \n",
      "\n",
      "Nearest Neighbours of Customer : 27RUJP3KWE \n",
      "1: Customer=4ZTJ0EMG8H, with distance of 0.23570952911988596\n",
      "2: Customer=SXVRB8D1HC, with distance of 0.2433611662097167\n",
      "3: Customer=Q25JL4PNEB, with distance of 0.24376106212319482\n",
      "4: Customer=QMND8RETY6, with distance of 0.25755771143470274\n",
      "Recommendations from model has a similarity of 0.01668253563423383 with actual behavior for Customer: 27RUJP3KWE \n",
      "\n",
      "Recommendation to customer customer='H5BR8XJ0CT' ... \n",
      "\n",
      "Nearest Neighbours of Customer : H5BR8XJ0CT \n",
      "1: Customer=3H6OXP2IKZ, with distance of 0.2653124805484455\n",
      "2: Customer=CHW9LBMO85, with distance of 0.2877707224440401\n",
      "3: Customer=EUXPMGAS9T, with distance of 0.29436689714597597\n",
      "4: Customer=M7Q1VKW0JA, with distance of 0.29645840876875296\n",
      "Recommendations from model has a similarity of 0.09726239628082745 with actual behavior for Customer: H5BR8XJ0CT \n",
      "\n",
      "Recommendation to customer customer='LRH40N1KPD' ... \n",
      "\n",
      "Nearest Neighbours of Customer : LRH40N1KPD \n",
      "1: Customer=NUX2WZCA0S, with distance of 0.028897347276046648\n",
      "2: Customer=DISUT2PZC7, with distance of 0.029091412538852723\n",
      "3: Customer=1ATHZNF2J4, with distance of 0.029188547038520696\n",
      "4: Customer=SUW4KD83BA, with distance of 0.03131603758896806\n",
      "Recommendations from model has a similarity of 0.024852682676069326 with actual behavior for Customer: LRH40N1KPD \n",
      "\n",
      "Recommendation to customer customer='FG0ZKIJXOY' ... \n",
      "\n",
      "Nearest Neighbours of Customer : FG0ZKIJXOY \n",
      "1: Customer=C648R1P2TZ, with distance of 0.000768344331651849\n",
      "2: Customer=HJ8QUBIF7P, with distance of 0.015693843155498155\n",
      "3: Customer=PSCZAFI95D, with distance of 0.019056482233501648\n",
      "4: Customer=0F8ZA2CQDY, with distance of 0.01941932430907989\n",
      "Recommendations from model has a similarity of 0.0 with actual behavior for Customer: FG0ZKIJXOY \n",
      "\n",
      "Recommendation to customer customer='7LHPKO0RSG' ... \n",
      "\n",
      "Nearest Neighbours of Customer : 7LHPKO0RSG \n",
      "1: Customer=RF5EOYS23I, with distance of 0.23127695619581112\n",
      "2: Customer=60Q3RY9MWV, with distance of 0.2636977220182173\n",
      "3: Customer=C6P39RK7UJ, with distance of 0.2647261073514504\n",
      "4: Customer=U9P3AEBVOX, with distance of 0.2707405023778835\n",
      "Recommendations from model has a similarity of 0.07107122660418874 with actual behavior for Customer: 7LHPKO0RSG \n",
      "\n",
      "Recommendation to customer customer='SY0V349Q5R' ... \n",
      "\n",
      "Nearest Neighbours of Customer : SY0V349Q5R \n",
      "1: Customer=6CKGYDNXRV, with distance of 0.23714363927495163\n",
      "2: Customer=MXN9CPKHDA, with distance of 0.23953306165908794\n",
      "3: Customer=ENOPAJU1GY, with distance of 0.24678308524238812\n",
      "4: Customer=TJO4Q8AU9W, with distance of 0.2531976162433903\n",
      "Recommendations from model has a similarity of 0.051836545520101085 with actual behavior for Customer: SY0V349Q5R \n",
      "\n",
      "Recommendation to customer customer='12IJC7QPT8' ... \n",
      "\n",
      "Nearest Neighbours of Customer : 12IJC7QPT8 \n",
      "1: Customer=4D259JPAOR, with distance of 0.133383496639905\n",
      "2: Customer=JYWPHU45QX, with distance of 0.19428166792520385\n",
      "3: Customer=2UATYNRE7X, with distance of 0.19428166792520385\n",
      "4: Customer=0P413DGLQA, with distance of 0.19428166792520385\n",
      "Recommendations from model has a similarity of 0.024744154876535696 with actual behavior for Customer: 12IJC7QPT8 \n",
      "\n",
      "Recommendation to customer customer='V4FW79IS5R' ... \n",
      "\n",
      "Nearest Neighbours of Customer : V4FW79IS5R \n",
      "1: Customer=C5LSJNP3KI, with distance of 0.05628798541651936\n",
      "2: Customer=NTRMOZUWFV, with distance of 0.05656531667036491\n",
      "3: Customer=C3GT7Z5DM0, with distance of 0.06362346958221599\n",
      "4: Customer=JNMQB8PG9V, with distance of 0.07266908424055596\n",
      "Recommendations from model has a similarity of 0.028462931853602047 with actual behavior for Customer: V4FW79IS5R \n",
      "\n",
      "Recommendation to customer customer='DE8KV5LNIH' ... \n",
      "\n",
      "Nearest Neighbours of Customer : DE8KV5LNIH \n",
      "1: Customer=NR1TGOJP5C, with distance of 0.2457224447817803\n",
      "2: Customer=JFS5ICYN0O, with distance of 0.2512975904507635\n",
      "3: Customer=D7GNTPE40I, with distance of 0.2943754727588116\n",
      "4: Customer=KJL4G9E3Y8, with distance of 0.3334975417707364\n",
      "Recommendations from model has a similarity of 0.3452153715812919 with actual behavior for Customer: DE8KV5LNIH \n",
      "\n",
      "Recommendation to customer customer='C6TRZ84NK1' ... \n",
      "\n",
      "Nearest Neighbours of Customer : C6TRZ84NK1 \n",
      "1: Customer=I0HUT16ZO3, with distance of 0.09296349550329885\n",
      "2: Customer=3USG5K4CH2, with distance of 0.20022366470041897\n",
      "3: Customer=QBM9JRYP6N, with distance of 0.20172443475891777\n",
      "4: Customer=LQZANFIJG0, with distance of 0.20172443475891777\n",
      "Recommendations from model has a similarity of 0.04217408371079001 with actual behavior for Customer: C6TRZ84NK1 \n",
      "\n",
      "Recommendation to customer customer='XB0TGU6HA9' ... \n",
      "\n",
      "Nearest Neighbours of Customer : XB0TGU6HA9 \n",
      "1: Customer=WT8K1IENL7, with distance of 0.2941461806128065\n",
      "2: Customer=8PSL5HDKTX, with distance of 0.2964101954890087\n",
      "3: Customer=T39IQ7CP46, with distance of 0.3032970477546195\n",
      "4: Customer=GSW8RUQ51J, with distance of 0.3630067785868105\n",
      "Recommendations from model has a similarity of 0.0 with actual behavior for Customer: XB0TGU6HA9 \n",
      "\n",
      "Recommendation to customer customer='7A6M0CXIP4' ... \n",
      "\n",
      "Nearest Neighbours of Customer : 7A6M0CXIP4 \n",
      "1: Customer=S5TFGCR9M4, with distance of 0.3062525966925591\n",
      "2: Customer=BVA9W2H461, with distance of 0.3824470563832989\n",
      "3: Customer=NSWGD0ZTMO, with distance of 0.3902022185608448\n",
      "4: Customer=49I0UF67MS, with distance of 0.391262871696746\n",
      "Recommendations from model has a similarity of 0.1611288970717778 with actual behavior for Customer: 7A6M0CXIP4 \n",
      "\n",
      "Recommendation to customer customer='Y5N1MB9C7P' ... \n",
      "\n",
      "Nearest Neighbours of Customer : Y5N1MB9C7P \n",
      "1: Customer=YV12X7QMRL, with distance of 0.17712834932426902\n",
      "2: Customer=Q3MIJEGKP2, with distance of 0.22967449951907104\n",
      "3: Customer=SFGC72ZAO5, with distance of 0.22967449951907104\n",
      "4: Customer=L6ZK4SCR95, with distance of 0.22967449951907104\n",
      "Recommendations from model has a similarity of 0.021028637406668493 with actual behavior for Customer: Y5N1MB9C7P \n",
      "\n",
      "Recommendation to customer customer='1WBEMQDAVI' ... \n",
      "\n",
      "Nearest Neighbours of Customer : 1WBEMQDAVI \n",
      "1: Customer=63QBLFXPH2, with distance of 0.046883935421220824\n",
      "2: Customer=CLSYV0IW3E, with distance of 0.05627447048572454\n",
      "3: Customer=36Y20OLVUK, with distance of 0.05636697899249132\n",
      "4: Customer=8DZOKCPFYW, with distance of 0.06361362381750002\n",
      "Recommendations from model has a similarity of 0.006504630872269268 with actual behavior for Customer: 1WBEMQDAVI \n",
      "\n",
      "Recommendation to customer customer='5JNWZKTEBQ' ... \n",
      "\n",
      "Nearest Neighbours of Customer : 5JNWZKTEBQ \n",
      "1: Customer=6Y8WCSJT9F, with distance of 0.33726530873076066\n",
      "2: Customer=V6K75DRGPS, with distance of 0.34886498170607516\n",
      "3: Customer=FRBYKUAH3W, with distance of 0.3523028844595739\n",
      "4: Customer=EI1DSQPZLM, with distance of 0.3564748675997411\n",
      "Recommendations from model has a similarity of 0.03522653169212753 with actual behavior for Customer: 5JNWZKTEBQ \n",
      "\n",
      "Recommendation to customer customer='ZWAOVIDXH4' ... \n",
      "\n",
      "Nearest Neighbours of Customer : ZWAOVIDXH4 \n",
      "1: Customer=DHKJW04URT, with distance of 0.25851874319779444\n",
      "2: Customer=16VRDO70C5, with distance of 0.2751213028756362\n",
      "3: Customer=XR3V10IW9D, with distance of 0.295425139030573\n",
      "4: Customer=L2EF97VBTO, with distance of 0.2954251390305731\n",
      "Recommendations from model has a similarity of 0.017421949344182952 with actual behavior for Customer: ZWAOVIDXH4 \n",
      "\n",
      "Recommendation to customer customer='2XQSJ7DI56' ... \n",
      "\n",
      "Nearest Neighbours of Customer : 2XQSJ7DI56 \n",
      "1: Customer=W6VRUO9GM5, with distance of 0.1932491235441799\n",
      "2: Customer=2IO3PT6SNR, with distance of 0.24742170855107593\n",
      "3: Customer=ACFM2Z1QES, with distance of 0.2484238101375591\n",
      "4: Customer=LDAQ9Z8RBG, with distance of 0.27104304703106996\n",
      "Recommendations from model has a similarity of 0.09430381557449763 with actual behavior for Customer: 2XQSJ7DI56 \n",
      "\n",
      "Recommendation to customer customer='KWXR87JALD' ... \n",
      "\n",
      "Nearest Neighbours of Customer : KWXR87JALD \n",
      "1: Customer=CFWHDTN7RB, with distance of 0.01651932811643153\n",
      "2: Customer=S6CEJ8R21Y, with distance of 0.016661794438538657\n",
      "3: Customer=IW8SMEXHZ1, with distance of 0.01960023212853168\n",
      "4: Customer=8LZ2AFUR3M, with distance of 0.01960023212853168\n",
      "Recommendations from model has a similarity of 0.007095279139318733 with actual behavior for Customer: KWXR87JALD \n",
      "\n",
      "Recommendation to customer customer='V2I1KED8X7' ... \n",
      "\n",
      "Nearest Neighbours of Customer : V2I1KED8X7 \n",
      "1: Customer=4J93GNKV5Z, with distance of 0.019800039207998554\n",
      "2: Customer=0KDGJ21CZF, with distance of 0.019896104280096027\n",
      "3: Customer=S10ACG5FDY, with distance of 0.019896104280096027\n",
      "4: Customer=NXG0UM5HLA, with distance of 0.020567769860968865\n"
     ]
    },
    {
     "name": "stdout",
     "output_type": "stream",
     "text": [
      "Recommendations from model has a similarity of 0.002111466661305128 with actual behavior for Customer: V2I1KED8X7 \n",
      "\n",
      "Recommendation to customer customer='3EB7R4GH1M' ... \n",
      "\n",
      "Nearest Neighbours of Customer : 3EB7R4GH1M \n",
      "1: Customer=KUJ65GNQHY, with distance of 0.10316599437746121\n",
      "2: Customer=4OCUTBQ9V3, with distance of 0.11875511168633768\n",
      "3: Customer=OGUSHX2NPF, with distance of 0.1640000112647172\n",
      "4: Customer=891X5VJNAW, with distance of 0.16839349699395711\n",
      "Recommendations from model has a similarity of 0.00511295257531974 with actual behavior for Customer: 3EB7R4GH1M \n",
      "\n",
      "Recommendation to customer customer='KR0WLH94FM' ... \n",
      "\n",
      "Nearest Neighbours of Customer : KR0WLH94FM \n",
      "1: Customer=IASOWDJG45, with distance of 0.02871061471923475\n",
      "2: Customer=4WSZQ6OIET, with distance of 0.028897347276046648\n",
      "3: Customer=N7QEAML8C6, with distance of 0.03371674502809052\n",
      "4: Customer=XHCJDIFGUS, with distance of 0.03846509442724688\n",
      "Recommendations from model has a similarity of 0.0020710568896724624 with actual behavior for Customer: KR0WLH94FM \n",
      "\n",
      "Recommendation to customer customer='XJCDL8GQEA' ... \n",
      "\n",
      "Nearest Neighbours of Customer : XJCDL8GQEA \n",
      "1: Customer=PSG7UO26J0, with distance of 0.043566732595482494\n",
      "2: Customer=U2BEN5ACPR, with distance of 0.19334767165438604\n",
      "3: Customer=4MYGFKUIHR, with distance of 0.19961570729734524\n",
      "4: Customer=X7DMYQ6RPE, with distance of 0.1996157232986301\n",
      "Recommendations from model has a similarity of 0.38273641523283786 with actual behavior for Customer: XJCDL8GQEA \n",
      "\n",
      "Recommendation to customer customer='2LOUBTFHMA' ... \n",
      "\n",
      "Nearest Neighbours of Customer : 2LOUBTFHMA \n",
      "1: Customer=2FKUHPZ9O8, with distance of 0.28484944259958733\n",
      "2: Customer=VY4T8XZK7M, with distance of 0.3304218013881226\n",
      "3: Customer=KN8CESU4O9, with distance of 0.33870417401867536\n",
      "4: Customer=ZJ0BYP6E5D, with distance of 0.35292834559773434\n",
      "Recommendations from model has a similarity of 0.12282782338807241 with actual behavior for Customer: 2LOUBTFHMA \n"
     ]
    }
   ],
   "source": [
    "\n",
    "# lets select some random products\n",
    "\n",
    "numRecords = len(dfTxn)\n",
    "\n",
    "for _ in range(100):\n",
    "    \n",
    "    randomIdx = np.random.choice(numRecords)\n",
    "    \n",
    "    customer = dfTxn.CustomerId[randomIdx]\n",
    "    \n",
    "    print(f\"\\nRecommendation to customer {customer=} ... \\n\")\n",
    "    kmeansRecos(CUSTOMERID=customer)\n",
    "    #kmeansRecos()\n",
    "    \n",
    "\n",
    "#kmeansRecos(CUSTOMERID='012ILK3ZTP', N_NEIGHBOURS=5)"
   ]
  },
  {
   "cell_type": "markdown",
   "metadata": {},
   "source": [
    "# Case 2 -> metric = \"cosine similarity\" , n_neighbors= 3"
   ]
  },
  {
   "cell_type": "code",
   "execution_count": 412,
   "metadata": {},
   "outputs": [
    {
     "data": {
      "text/plain": [
       "{'algorithm': 'brute',\n",
       " 'leaf_size': 30,\n",
       " 'metric': 'cosine',\n",
       " 'metric_params': None,\n",
       " 'n_jobs': None,\n",
       " 'n_neighbors': 3,\n",
       " 'p': 2,\n",
       " 'radius': 1.0}"
      ]
     },
     "execution_count": 412,
     "metadata": {},
     "output_type": "execute_result"
    }
   ],
   "source": [
    "model = NearestNeighbors(metric='cosine', algorithm='brute', n_neighbors=3)\n",
    "model.get_params()"
   ]
  },
  {
   "cell_type": "code",
   "execution_count": 413,
   "metadata": {},
   "outputs": [
    {
     "data": {
      "text/plain": [
       "NearestNeighbors(algorithm='brute', metric='cosine', n_neighbors=3)"
      ]
     },
     "execution_count": 413,
     "metadata": {},
     "output_type": "execute_result"
    }
   ],
   "source": [
    "model.fit(mtrxTobeUsed)"
   ]
  },
  {
   "cell_type": "code",
   "execution_count": 415,
   "metadata": {},
   "outputs": [
    {
     "data": {
      "text/plain": [
       "(99932, 79)"
      ]
     },
     "execution_count": 415,
     "metadata": {},
     "output_type": "execute_result"
    }
   ],
   "source": [
    "mtrxTobeUsed.shape"
   ]
  },
  {
   "cell_type": "code",
   "execution_count": 416,
   "metadata": {},
   "outputs": [
    {
     "data": {
      "text/plain": [
       "<99932x79 sparse matrix of type '<class 'numpy.float64'>'\n",
       "\twith 822464 stored elements in Compressed Sparse Row format>"
      ]
     },
     "execution_count": 416,
     "metadata": {},
     "output_type": "execute_result"
    }
   ],
   "source": [
    "mtrxTobeUsed"
   ]
  },
  {
   "cell_type": "code",
   "execution_count": 417,
   "metadata": {},
   "outputs": [
    {
     "name": "stdout",
     "output_type": "stream",
     "text": [
      "Nearest Neighbours of Customer 0, 012ILK3ZTP \n",
      "1: Customer=KRI5E38NCX, with distance of 0.16895293337990658\n",
      "2: Customer=97Y16X03UW, with distance of 0.1758747340250364\n",
      "Recommendations for 012ILK3ZTP has a similarity of 0.8760816777112866 with actual behavior\n",
      "Recommendations for 012ILK3ZTP has a distance of 0.12391832228871336 from actual\n"
     ]
    }
   ],
   "source": [
    "kmeansRecos(CUSTOMERID='012ILK3ZTP', N_NEIGHBOURS=3)"
   ]
  },
  {
   "cell_type": "code",
   "execution_count": 418,
   "metadata": {},
   "outputs": [],
   "source": [
    "# ======"
   ]
  },
  {
   "cell_type": "code",
   "execution_count": 422,
   "metadata": {},
   "outputs": [
    {
     "name": "stdout",
     "output_type": "stream",
     "text": [
      "Nearest Neighbours of Customer 0, 012ILK3ZTP \n",
      "1: Customer=KRI5E38NCX, with distance of 0.16895293337990658\n",
      "2: Customer=97Y16X03UW, with distance of 0.1758747340250364\n",
      "3: Customer=1NT0E8JZKX, with distance of 0.23743680988734694\n",
      "4: Customer=SCPBT1XQ40, with distance of 0.2502589435386875\n",
      "5: Customer=GSVO4F716P, with distance of 0.2646380257527925\n",
      "6: Customer=OHJ2PXNBW9, with distance of 0.26536739251321384\n",
      "7: Customer=76ASXM30HK, with distance of 0.2847049434988981\n",
      "8: Customer=R4T02NUXKS, with distance of 0.292963918886737\n",
      "9: Customer=QXDCRKGWTH, with distance of 0.292963918886737\n",
      "Recommendations for 012ILK3ZTP has a similarity of 0.8760816777112866 with actual behavior\n",
      "Recommendations for 012ILK3ZTP has a distance of 0.12391832228871336 from actual\n"
     ]
    }
   ],
   "source": [
    "model = NearestNeighbors(metric='cosine', algorithm='brute', n_neighbors=20)\n",
    "model.fit(mtrxTobeUsed)\n",
    "kmeansRecos(CUSTOMERID='012ILK3ZTP', N_NEIGHBOURS=10)"
   ]
  },
  {
   "cell_type": "code",
   "execution_count": null,
   "metadata": {},
   "outputs": [],
   "source": []
  },
  {
   "cell_type": "code",
   "execution_count": null,
   "metadata": {},
   "outputs": [],
   "source": []
  },
  {
   "cell_type": "markdown",
   "metadata": {},
   "source": [
    "# content based filtering based on OrderStatusScore and AgeBasedScore"
   ]
  },
  {
   "cell_type": "code",
   "execution_count": 573,
   "metadata": {},
   "outputs": [],
   "source": [
    "# prepare the test and validation set"
   ]
  },
  {
   "cell_type": "code",
   "execution_count": 670,
   "metadata": {},
   "outputs": [
    {
     "data": {
      "text/plain": [
       "array([1, 2])"
      ]
     },
     "execution_count": 670,
     "metadata": {},
     "output_type": "execute_result"
    }
   ],
   "source": [
    "dfTxn.Gender.unique()"
   ]
  },
  {
   "cell_type": "code",
   "execution_count": 700,
   "metadata": {},
   "outputs": [
    {
     "data": {
      "text/plain": [
       "[5, 1, 2, 3, 4]\n",
       "Categories (5, int64): [1 < 2 < 3 < 4 < 5]"
      ]
     },
     "execution_count": 700,
     "metadata": {},
     "output_type": "execute_result"
    }
   ],
   "source": [
    "dfTxn.Age.unique()"
   ]
  },
  {
   "cell_type": "code",
   "execution_count": 728,
   "metadata": {},
   "outputs": [],
   "source": [
    "dfTest = dfTxn[ dfTxn.Zone.isin(['Bangalore','Delhi','Mumbai']) ]"
   ]
  },
  {
   "cell_type": "code",
   "execution_count": 732,
   "metadata": {},
   "outputs": [
    {
     "data": {
      "text/plain": [
       "(1754515, 17)"
      ]
     },
     "execution_count": 732,
     "metadata": {},
     "output_type": "execute_result"
    }
   ],
   "source": [
    "dfTest.shape"
   ]
  },
  {
   "cell_type": "code",
   "execution_count": 733,
   "metadata": {},
   "outputs": [
    {
     "data": {
      "text/plain": [
       "Index(['CustomerId', 'CustomerGender', 'CustomerAge', 'CustomerDeviceType',\n",
       "       'OrderId', 'OrderAmount', 'Product', 'OrderStatus', 'DeliveryPinCode',\n",
       "       'OrderPaymentMode', 'ProductPriceCategory', 'Zone', 'OrderStatusScore',\n",
       "       'PaymentMode', 'DeviceType', 'Gender', 'Age'],\n",
       "      dtype='object')"
      ]
     },
     "execution_count": 733,
     "metadata": {},
     "output_type": "execute_result"
    }
   ],
   "source": [
    "dfTest.columns"
   ]
  },
  {
   "cell_type": "code",
   "execution_count": 734,
   "metadata": {},
   "outputs": [],
   "source": [
    "dfValidation = dfTest.iloc[ :50000 , :  ]\n",
    "#dfValidation = dfTest.iloc[ : , :  ]"
   ]
  },
  {
   "cell_type": "code",
   "execution_count": 735,
   "metadata": {},
   "outputs": [
    {
     "data": {
      "text/plain": [
       "(50000, 17)"
      ]
     },
     "execution_count": 735,
     "metadata": {},
     "output_type": "execute_result"
    }
   ],
   "source": [
    "dfValidation.shape"
   ]
  },
  {
   "cell_type": "code",
   "execution_count": 736,
   "metadata": {},
   "outputs": [
    {
     "data": {
      "text/plain": [
       "Int64Index([    0,     1,     2,     3,     4,     5,     6,     7,     8,\n",
       "                9,\n",
       "            ...\n",
       "            49990, 49991, 49992, 49993, 49994, 49995, 49996, 49997, 49998,\n",
       "            49999],\n",
       "           dtype='int64', length=50000)"
      ]
     },
     "execution_count": 736,
     "metadata": {},
     "output_type": "execute_result"
    }
   ],
   "source": [
    "dfValidation.index"
   ]
  },
  {
   "cell_type": "code",
   "execution_count": 737,
   "metadata": {},
   "outputs": [
    {
     "data": {
      "text/plain": [
       "Index(['CustomerId', 'CustomerGender', 'CustomerAge', 'CustomerDeviceType',\n",
       "       'OrderId', 'OrderAmount', 'Product', 'OrderStatus', 'DeliveryPinCode',\n",
       "       'OrderPaymentMode', 'ProductPriceCategory', 'Zone', 'OrderStatusScore',\n",
       "       'PaymentMode', 'DeviceType', 'Gender', 'Age'],\n",
       "      dtype='object')"
      ]
     },
     "execution_count": 737,
     "metadata": {},
     "output_type": "execute_result"
    }
   ],
   "source": [
    "dfValidation.columns"
   ]
  },
  {
   "cell_type": "markdown",
   "metadata": {},
   "source": [
    "# based on OrderStatusScore"
   ]
  },
  {
   "cell_type": "code",
   "execution_count": 818,
   "metadata": {},
   "outputs": [
    {
     "data": {
      "text/plain": [
       "<AxesSubplot:title={'center':'Price based spread of products '}, xlabel='Price', ylabel='count'>"
      ]
     },
     "execution_count": 818,
     "metadata": {},
     "output_type": "execute_result"
    },
    {
     "data": {
      "image/png": "[encoded data removed]",
      "text/plain": [
       "<Figure size 1080x360 with 1 Axes>"
      ]
     },
     "metadata": {
      "needs_background": "light"
     },
     "output_type": "display_data"
    }
   ],
   "source": [
    "plt.figure(figsize=(15,5))\n",
    "plt.title('Price based spread of products ')\n",
    "sns.countplot (x=dfProducts['Price'])\n"
   ]
  },
  {
   "cell_type": "code",
   "execution_count": 754,
   "metadata": {},
   "outputs": [],
   "source": [
    "# dataframe which gives an idea of degree of relationship (orderScore) in between a customer and product\n",
    "dfContent = dfValidation.groupby(['Product','CustomerId'])['OrderStatusScore'].sum().reset_index()\n"
   ]
  },
  {
   "cell_type": "code",
   "execution_count": 755,
   "metadata": {},
   "outputs": [
    {
     "data": {
      "text/plain": [
       "(43905, 3)"
      ]
     },
     "execution_count": 755,
     "metadata": {},
     "output_type": "execute_result"
    }
   ],
   "source": [
    "dfContent.shape"
   ]
  },
  {
   "cell_type": "code",
   "execution_count": 758,
   "metadata": {},
   "outputs": [
    {
     "data": {
      "text/plain": [
       "100000"
      ]
     },
     "execution_count": 758,
     "metadata": {},
     "output_type": "execute_result"
    }
   ],
   "source": [
    "dfTest.CustomerId.nunique()"
   ]
  },
  {
   "cell_type": "code",
   "execution_count": 759,
   "metadata": {},
   "outputs": [
    {
     "data": {
      "text/plain": [
       "Index(['Product', 'CustomerId', 'OrderStatusScore'], dtype='object')"
      ]
     },
     "execution_count": 759,
     "metadata": {},
     "output_type": "execute_result"
    }
   ],
   "source": [
    "dfContent.columns"
   ]
  },
  {
   "cell_type": "code",
   "execution_count": 760,
   "metadata": {},
   "outputs": [
    {
     "data": {
      "text/plain": [
       "(2843,)"
      ]
     },
     "execution_count": 760,
     "metadata": {},
     "output_type": "execute_result"
    }
   ],
   "source": [
    "# i got around 3324 customers that will be my features\n",
    "\n",
    "dfContent.CustomerId.unique().shape"
   ]
  },
  {
   "cell_type": "code",
   "execution_count": 761,
   "metadata": {},
   "outputs": [
    {
     "data": {
      "text/plain": [
       "(79,)"
      ]
     },
     "execution_count": 761,
     "metadata": {},
     "output_type": "execute_result"
    }
   ],
   "source": [
    "# number of products is 79\n",
    "\n",
    "dfContent.Product.unique().shape"
   ]
  },
  {
   "cell_type": "code",
   "execution_count": 762,
   "metadata": {},
   "outputs": [
    {
     "data": {
      "text/html": [
       "<div>\n",
       "<style scoped>\n",
       "    .dataframe tbody tr th:only-of-type {\n",
       "        vertical-align: middle;\n",
       "    }\n",
       "\n",
       "    .dataframe tbody tr th {\n",
       "        vertical-align: top;\n",
       "    }\n",
       "\n",
       "    .dataframe thead th {\n",
       "        text-align: right;\n",
       "    }\n",
       "</style>\n",
       "<table border=\"1\" class=\"dataframe\">\n",
       "  <thead>\n",
       "    <tr style=\"text-align: right;\">\n",
       "      <th></th>\n",
       "      <th>Product</th>\n",
       "      <th>CustomerId</th>\n",
       "      <th>OrderStatusScore</th>\n",
       "    </tr>\n",
       "  </thead>\n",
       "  <tbody>\n",
       "    <tr>\n",
       "      <th>0</th>\n",
       "      <td>agodavoucher</td>\n",
       "      <td>06RL1ZIQ2Y</td>\n",
       "      <td>50</td>\n",
       "    </tr>\n",
       "    <tr>\n",
       "      <th>1</th>\n",
       "      <td>agodavoucher</td>\n",
       "      <td>07HM2D5P3A</td>\n",
       "      <td>10</td>\n",
       "    </tr>\n",
       "  </tbody>\n",
       "</table>\n",
       "</div>"
      ],
      "text/plain": [
       "        Product  CustomerId  OrderStatusScore\n",
       "0  agodavoucher  06RL1ZIQ2Y                50\n",
       "1  agodavoucher  07HM2D5P3A                10"
      ]
     },
     "execution_count": 762,
     "metadata": {},
     "output_type": "execute_result"
    }
   ],
   "source": [
    "dfContent.head(2)"
   ]
  },
  {
   "cell_type": "code",
   "execution_count": 763,
   "metadata": {},
   "outputs": [],
   "source": [
    "dfContentPivot = dfContent.pivot_table(index= 'Product', columns= 'CustomerId', values = 'OrderStatusScore').fillna(0)"
   ]
  },
  {
   "cell_type": "code",
   "execution_count": 764,
   "metadata": {},
   "outputs": [
    {
     "data": {
      "text/plain": [
       "Index(['agodavoucher', 'alexa', 'ballpen', 'bharatpetroleumvoucher', 'blouse',\n",
       "       'bookmyshowgiftcard', 'books', 'brief', 'byjugiftcard', 'casualshoes',\n",
       "       'cellphone', 'cleartripvoucher', 'cultfitvoucher', 'deodrant',\n",
       "       'diamondjewellery', 'dreams11giftcard', 'exotictea', 'fancylights',\n",
       "       'formalshoes', 'goldjewelley', 'googlehome', 'handbag', 'handkerchief',\n",
       "       'headoutvoucher', 'headphone', 'homeautomation', 'hometheatre',\n",
       "       'hotelmarriotgiftcard', 'hoteltajgiftcard', 'hotstarvoucher', 'inkpen',\n",
       "       'irctcvoucher', 'jeans', 'kindle', 'laptop', 'laptopbag', 'lights',\n",
       "       'luxurywatch', 'makemytripvoucher', 'menssuit', 'metalfurniture',\n",
       "       'monitors', 'netflixvoucher', 'notepad', 'olacashcard', 'passportbag',\n",
       "       'perfume', 'powerbank', 'printer', 'router', 'rummycirclegiftcard',\n",
       "       'saree', 'shavingcream', 'shirt', 'skirt', 'sleepers', 'smartlights',\n",
       "       'smartwatch', 'sonylivvoucher', 'speakers', 'sunglasses',\n",
       "       'swiggycashcard', 'tablet', 'tataskygiftcard', 'television',\n",
       "       'travellersbag', 'trouser', 'tshirt', 'ubercashcard', 'usbcable',\n",
       "       'usbstick', 'vedantugiftcard', 'vest', 'vootvoucher', 'watch',\n",
       "       'woodfurniture', 'yatravoucher', 'zee5voucher', 'zomatocashcard'],\n",
       "      dtype='object', name='Product')"
      ]
     },
     "execution_count": 764,
     "metadata": {},
     "output_type": "execute_result"
    }
   ],
   "source": [
    "dfContentPivot.index"
   ]
  },
  {
   "cell_type": "code",
   "execution_count": 765,
   "metadata": {},
   "outputs": [
    {
     "data": {
      "text/plain": [
       "(79, 2843)"
      ]
     },
     "execution_count": 765,
     "metadata": {},
     "output_type": "execute_result"
    }
   ],
   "source": [
    "# so each product is a vector of 3324 features \n",
    "\n",
    "dfContentPivot.shape"
   ]
  },
  {
   "cell_type": "code",
   "execution_count": 766,
   "metadata": {},
   "outputs": [],
   "source": [
    "\n",
    "# now let us cluster these products in groups \n",
    "\n",
    "# before that convert the pivot table into a csr_matrix (sparse matrix)"
   ]
  },
  {
   "cell_type": "code",
   "execution_count": 767,
   "metadata": {},
   "outputs": [],
   "source": [
    "mtrxContent = csr_matrix(dfContentPivot.values)"
   ]
  },
  {
   "cell_type": "code",
   "execution_count": 768,
   "metadata": {},
   "outputs": [
    {
     "data": {
      "text/plain": [
       "(79, 2843)"
      ]
     },
     "execution_count": 768,
     "metadata": {},
     "output_type": "execute_result"
    }
   ],
   "source": [
    "mtrxContent.shape"
   ]
  },
  {
   "cell_type": "code",
   "execution_count": 721,
   "metadata": {},
   "outputs": [],
   "source": [
    "# initialize the model"
   ]
  },
  {
   "cell_type": "code",
   "execution_count": 769,
   "metadata": {},
   "outputs": [],
   "source": [
    "model = NearestNeighbors(n_neighbors=5, metric='cosine')"
   ]
  },
  {
   "cell_type": "code",
   "execution_count": 770,
   "metadata": {},
   "outputs": [
    {
     "data": {
      "text/plain": [
       "{'algorithm': 'auto',\n",
       " 'leaf_size': 30,\n",
       " 'metric': 'cosine',\n",
       " 'metric_params': None,\n",
       " 'n_jobs': None,\n",
       " 'n_neighbors': 5,\n",
       " 'p': 2,\n",
       " 'radius': 1.0}"
      ]
     },
     "execution_count": 770,
     "metadata": {},
     "output_type": "execute_result"
    }
   ],
   "source": [
    "model.get_params()"
   ]
  },
  {
   "cell_type": "code",
   "execution_count": 771,
   "metadata": {},
   "outputs": [
    {
     "data": {
      "text/plain": [
       "NearestNeighbors(metric='cosine')"
      ]
     },
     "execution_count": 771,
     "metadata": {},
     "output_type": "execute_result"
    }
   ],
   "source": [
    "model.fit(mtrxContent)"
   ]
  },
  {
   "cell_type": "code",
   "execution_count": 772,
   "metadata": {},
   "outputs": [
    {
     "data": {
      "text/html": [
       "<div>\n",
       "<style scoped>\n",
       "    .dataframe tbody tr th:only-of-type {\n",
       "        vertical-align: middle;\n",
       "    }\n",
       "\n",
       "    .dataframe tbody tr th {\n",
       "        vertical-align: top;\n",
       "    }\n",
       "\n",
       "    .dataframe thead th {\n",
       "        text-align: right;\n",
       "    }\n",
       "</style>\n",
       "<table border=\"1\" class=\"dataframe\">\n",
       "  <thead>\n",
       "    <tr style=\"text-align: right;\">\n",
       "      <th>CustomerId</th>\n",
       "      <th>02ABXKI4QM</th>\n",
       "      <th>02CX3T7MPG</th>\n",
       "      <th>02OMWQVGIT</th>\n",
       "      <th>039T4HVE87</th>\n",
       "      <th>03PE5QXRYK</th>\n",
       "      <th>04H9R1TO2A</th>\n",
       "      <th>04SYRO1CFL</th>\n",
       "      <th>05CO7ZDMLA</th>\n",
       "      <th>06HA8GM4CS</th>\n",
       "      <th>06RL1ZIQ2Y</th>\n",
       "      <th>...</th>\n",
       "      <th>ZT19NEWCMP</th>\n",
       "      <th>ZTGKFB7LJP</th>\n",
       "      <th>ZTL0XEAD19</th>\n",
       "      <th>ZUIX07NPT9</th>\n",
       "      <th>ZVCK5TADF3</th>\n",
       "      <th>ZW792VMIYA</th>\n",
       "      <th>ZW9U0R125N</th>\n",
       "      <th>ZX8K2WH1N3</th>\n",
       "      <th>ZYO1X7DGUE</th>\n",
       "      <th>ZYTUBVG5PQ</th>\n",
       "    </tr>\n",
       "    <tr>\n",
       "      <th>Product</th>\n",
       "      <th></th>\n",
       "      <th></th>\n",
       "      <th></th>\n",
       "      <th></th>\n",
       "      <th></th>\n",
       "      <th></th>\n",
       "      <th></th>\n",
       "      <th></th>\n",
       "      <th></th>\n",
       "      <th></th>\n",
       "      <th></th>\n",
       "      <th></th>\n",
       "      <th></th>\n",
       "      <th></th>\n",
       "      <th></th>\n",
       "      <th></th>\n",
       "      <th></th>\n",
       "      <th></th>\n",
       "      <th></th>\n",
       "      <th></th>\n",
       "      <th></th>\n",
       "    </tr>\n",
       "  </thead>\n",
       "  <tbody>\n",
       "    <tr>\n",
       "      <th>alexa</th>\n",
       "      <td>0.0</td>\n",
       "      <td>0.0</td>\n",
       "      <td>0.0</td>\n",
       "      <td>0.0</td>\n",
       "      <td>0.0</td>\n",
       "      <td>0.0</td>\n",
       "      <td>0.0</td>\n",
       "      <td>10.0</td>\n",
       "      <td>0.0</td>\n",
       "      <td>0.0</td>\n",
       "      <td>...</td>\n",
       "      <td>0.0</td>\n",
       "      <td>0.0</td>\n",
       "      <td>0.0</td>\n",
       "      <td>50.0</td>\n",
       "      <td>0.0</td>\n",
       "      <td>0.0</td>\n",
       "      <td>0.0</td>\n",
       "      <td>0.0</td>\n",
       "      <td>0.0</td>\n",
       "      <td>0.0</td>\n",
       "    </tr>\n",
       "  </tbody>\n",
       "</table>\n",
       "<p>1 rows × 2843 columns</p>\n",
       "</div>"
      ],
      "text/plain": [
       "CustomerId  02ABXKI4QM  02CX3T7MPG  02OMWQVGIT  039T4HVE87  03PE5QXRYK  \\\n",
       "Product                                                                  \n",
       "alexa              0.0         0.0         0.0         0.0         0.0   \n",
       "\n",
       "CustomerId  04H9R1TO2A  04SYRO1CFL  05CO7ZDMLA  06HA8GM4CS  06RL1ZIQ2Y  ...  \\\n",
       "Product                                                                 ...   \n",
       "alexa              0.0         0.0        10.0         0.0         0.0  ...   \n",
       "\n",
       "CustomerId  ZT19NEWCMP  ZTGKFB7LJP  ZTL0XEAD19  ZUIX07NPT9  ZVCK5TADF3  \\\n",
       "Product                                                                  \n",
       "alexa              0.0         0.0         0.0        50.0         0.0   \n",
       "\n",
       "CustomerId  ZW792VMIYA  ZW9U0R125N  ZX8K2WH1N3  ZYO1X7DGUE  ZYTUBVG5PQ  \n",
       "Product                                                                 \n",
       "alexa              0.0         0.0         0.0         0.0         0.0  \n",
       "\n",
       "[1 rows x 2843 columns]"
      ]
     },
     "execution_count": 772,
     "metadata": {},
     "output_type": "execute_result"
    }
   ],
   "source": [
    "dfContentPivot[dfContentPivot.index == 'alexa']"
   ]
  },
  {
   "cell_type": "code",
   "execution_count": 773,
   "metadata": {},
   "outputs": [],
   "source": [
    "def kmeansContentRecos(PRODUCT='alexa', N_NEIGHBOURS=5):\n",
    "    \n",
    "    distances, indices = model.kneighbors( dfContentPivot[dfContentPivot.index == PRODUCT].values.reshape(1,-1),\\\n",
    "                                          n_neighbors=10)\n",
    "    nearestProducts = []\n",
    "    for i in range(0, len(distances.flatten())):\n",
    "        if i == 0:\n",
    "            print(f\"Nearest Neighbours of Product : {dfContentPivot.index[indices.flatten()[i]]} \")\n",
    "        else:\n",
    "            product = dfContentPivot.index[indices.flatten()[i]]\n",
    "            productDistance = distances.flatten()[i]\n",
    "            print('{0}: Product={1}, with similarity of {2}%'.format(i, product, round((1-productDistance)*100, 4)))\n",
    "\n",
    "            nearestProducts.append(product)\n",
    "\n"
   ]
  },
  {
   "cell_type": "code",
   "execution_count": 774,
   "metadata": {},
   "outputs": [
    {
     "name": "stdout",
     "output_type": "stream",
     "text": [
      "Nearest Neighbours of Product : alexa \n",
      "1: Product=usbstick, with similarity of 16.4115%\n",
      "2: Product=metalfurniture, with similarity of 12.4705%\n",
      "3: Product=smartlights, with similarity of 12.4654%\n",
      "4: Product=skirt, with similarity of 11.6288%\n",
      "5: Product=menssuit, with similarity of 11.5711%\n",
      "6: Product=hotstarvoucher, with similarity of 11.2862%\n",
      "7: Product=makemytripvoucher, with similarity of 10.9629%\n",
      "8: Product=notepad, with similarity of 10.7008%\n",
      "9: Product=hotelmarriotgiftcard, with similarity of 10.583%\n"
     ]
    }
   ],
   "source": [
    "kmeansContentRecos()"
   ]
  },
  {
   "cell_type": "markdown",
   "metadata": {},
   "source": [
    "# BASED ON GENDER"
   ]
  },
  {
   "cell_type": "code",
   "execution_count": 822,
   "metadata": {},
   "outputs": [
    {
     "data": {
      "text/plain": [
       "<AxesSubplot:title={'center':'Gender based spread of txns '}, xlabel='CustomerGender', ylabel='count'>"
      ]
     },
     "execution_count": 822,
     "metadata": {},
     "output_type": "execute_result"
    },
    {
     "data": {
      "image/png": "[encoded data removed]",
      "text/plain": [
       "<Figure size 360x360 with 1 Axes>"
      ]
     },
     "metadata": {
      "needs_background": "light"
     },
     "output_type": "display_data"
    }
   ],
   "source": [
    "plt.figure(figsize=(5,5))\n",
    "plt.title('Gender based spread of txns ')\n",
    "sns.countplot (x=dfTxn['CustomerGender'])"
   ]
  },
  {
   "cell_type": "code",
   "execution_count": 869,
   "metadata": {},
   "outputs": [],
   "source": [
    "df5 = dfTxn.groupby( ['Age', 'CustomerGender']).size().to_frame()"
   ]
  },
  {
   "cell_type": "code",
   "execution_count": 876,
   "metadata": {},
   "outputs": [
    {
     "data": {
      "text/plain": [
       "<AxesSubplot:xlabel='Age,CustomerGender'>"
      ]
     },
     "execution_count": 876,
     "metadata": {},
     "output_type": "execute_result"
    },
    {
     "data": {
      "image/png": "[encoded data removed]",
      "text/plain": [
       "<Figure size 432x288 with 1 Axes>"
      ]
     },
     "metadata": {
      "needs_background": "light"
     },
     "output_type": "display_data"
    }
   ],
   "source": [
    "df5.plot(kind='bar')"
   ]
  },
  {
   "cell_type": "markdown",
   "metadata": {},
   "source": [
    " # based on AgeScore"
   ]
  },
  {
   "cell_type": "code",
   "execution_count": 810,
   "metadata": {},
   "outputs": [
    {
     "data": {
      "text/plain": [
       "<AxesSubplot:title={'center':'Age Category based spread of txns '}, xlabel='Age', ylabel='count'>"
      ]
     },
     "execution_count": 810,
     "metadata": {},
     "output_type": "execute_result"
    },
    {
     "data": {
      "image/png": "[encoded data removed]",
      "text/plain": [
       "<Figure size 360x360 with 1 Axes>"
      ]
     },
     "metadata": {
      "needs_background": "light"
     },
     "output_type": "display_data"
    }
   ],
   "source": [
    "plt.figure(figsize=(5,5))\n",
    "plt.title('Age Category based spread of txns ')\n",
    "sns.countplot (x=dfTxn['Age'])"
   ]
  },
  {
   "cell_type": "code",
   "execution_count": 777,
   "metadata": {},
   "outputs": [],
   "source": [
    "# dataframe which gives an idea of degree of relationship (orderScore) in between a customer and product\n",
    "dfContent = dfValidation.groupby(['Product','CustomerId'])['Age'].size().reset_index()\n"
   ]
  },
  {
   "cell_type": "code",
   "execution_count": 778,
   "metadata": {},
   "outputs": [
    {
     "data": {
      "text/plain": [
       "(43905, 3)"
      ]
     },
     "execution_count": 778,
     "metadata": {},
     "output_type": "execute_result"
    }
   ],
   "source": [
    "dfContent.shape"
   ]
  },
  {
   "cell_type": "code",
   "execution_count": 779,
   "metadata": {},
   "outputs": [
    {
     "data": {
      "text/plain": [
       "100000"
      ]
     },
     "execution_count": 779,
     "metadata": {},
     "output_type": "execute_result"
    }
   ],
   "source": [
    "dfTest.CustomerId.nunique()"
   ]
  },
  {
   "cell_type": "code",
   "execution_count": 780,
   "metadata": {},
   "outputs": [
    {
     "data": {
      "text/plain": [
       "Index(['Product', 'CustomerId', 'Age'], dtype='object')"
      ]
     },
     "execution_count": 780,
     "metadata": {},
     "output_type": "execute_result"
    }
   ],
   "source": [
    "dfContent.columns"
   ]
  },
  {
   "cell_type": "code",
   "execution_count": 781,
   "metadata": {},
   "outputs": [
    {
     "data": {
      "text/plain": [
       "(2843,)"
      ]
     },
     "execution_count": 781,
     "metadata": {},
     "output_type": "execute_result"
    }
   ],
   "source": [
    "dfContent.CustomerId.unique().shape"
   ]
  },
  {
   "cell_type": "code",
   "execution_count": 782,
   "metadata": {},
   "outputs": [
    {
     "data": {
      "text/plain": [
       "(79,)"
      ]
     },
     "execution_count": 782,
     "metadata": {},
     "output_type": "execute_result"
    }
   ],
   "source": [
    "dfContent.Product.unique().shape"
   ]
  },
  {
   "cell_type": "code",
   "execution_count": 783,
   "metadata": {},
   "outputs": [
    {
     "data": {
      "text/html": [
       "<div>\n",
       "<style scoped>\n",
       "    .dataframe tbody tr th:only-of-type {\n",
       "        vertical-align: middle;\n",
       "    }\n",
       "\n",
       "    .dataframe tbody tr th {\n",
       "        vertical-align: top;\n",
       "    }\n",
       "\n",
       "    .dataframe thead th {\n",
       "        text-align: right;\n",
       "    }\n",
       "</style>\n",
       "<table border=\"1\" class=\"dataframe\">\n",
       "  <thead>\n",
       "    <tr style=\"text-align: right;\">\n",
       "      <th></th>\n",
       "      <th>Product</th>\n",
       "      <th>CustomerId</th>\n",
       "      <th>Age</th>\n",
       "    </tr>\n",
       "  </thead>\n",
       "  <tbody>\n",
       "    <tr>\n",
       "      <th>0</th>\n",
       "      <td>agodavoucher</td>\n",
       "      <td>06RL1ZIQ2Y</td>\n",
       "      <td>1</td>\n",
       "    </tr>\n",
       "    <tr>\n",
       "      <th>1</th>\n",
       "      <td>agodavoucher</td>\n",
       "      <td>07HM2D5P3A</td>\n",
       "      <td>1</td>\n",
       "    </tr>\n",
       "  </tbody>\n",
       "</table>\n",
       "</div>"
      ],
      "text/plain": [
       "        Product  CustomerId  Age\n",
       "0  agodavoucher  06RL1ZIQ2Y    1\n",
       "1  agodavoucher  07HM2D5P3A    1"
      ]
     },
     "execution_count": 783,
     "metadata": {},
     "output_type": "execute_result"
    }
   ],
   "source": [
    "dfContent.head(2)"
   ]
  },
  {
   "cell_type": "code",
   "execution_count": 784,
   "metadata": {},
   "outputs": [],
   "source": [
    "dfContentPivot = dfContent.pivot_table(index= 'Product', columns= 'CustomerId', values = 'Age').fillna(0)"
   ]
  },
  {
   "cell_type": "code",
   "execution_count": 785,
   "metadata": {},
   "outputs": [
    {
     "data": {
      "text/plain": [
       "Index(['agodavoucher', 'alexa', 'ballpen', 'bharatpetroleumvoucher', 'blouse',\n",
       "       'bookmyshowgiftcard', 'books', 'brief', 'byjugiftcard', 'casualshoes',\n",
       "       'cellphone', 'cleartripvoucher', 'cultfitvoucher', 'deodrant',\n",
       "       'diamondjewellery', 'dreams11giftcard', 'exotictea', 'fancylights',\n",
       "       'formalshoes', 'goldjewelley', 'googlehome', 'handbag', 'handkerchief',\n",
       "       'headoutvoucher', 'headphone', 'homeautomation', 'hometheatre',\n",
       "       'hotelmarriotgiftcard', 'hoteltajgiftcard', 'hotstarvoucher', 'inkpen',\n",
       "       'irctcvoucher', 'jeans', 'kindle', 'laptop', 'laptopbag', 'lights',\n",
       "       'luxurywatch', 'makemytripvoucher', 'menssuit', 'metalfurniture',\n",
       "       'monitors', 'netflixvoucher', 'notepad', 'olacashcard', 'passportbag',\n",
       "       'perfume', 'powerbank', 'printer', 'router', 'rummycirclegiftcard',\n",
       "       'saree', 'shavingcream', 'shirt', 'skirt', 'sleepers', 'smartlights',\n",
       "       'smartwatch', 'sonylivvoucher', 'speakers', 'sunglasses',\n",
       "       'swiggycashcard', 'tablet', 'tataskygiftcard', 'television',\n",
       "       'travellersbag', 'trouser', 'tshirt', 'ubercashcard', 'usbcable',\n",
       "       'usbstick', 'vedantugiftcard', 'vest', 'vootvoucher', 'watch',\n",
       "       'woodfurniture', 'yatravoucher', 'zee5voucher', 'zomatocashcard'],\n",
       "      dtype='object', name='Product')"
      ]
     },
     "execution_count": 785,
     "metadata": {},
     "output_type": "execute_result"
    }
   ],
   "source": [
    "dfContentPivot.index"
   ]
  },
  {
   "cell_type": "code",
   "execution_count": 786,
   "metadata": {},
   "outputs": [
    {
     "data": {
      "text/plain": [
       "(79, 2843)"
      ]
     },
     "execution_count": 786,
     "metadata": {},
     "output_type": "execute_result"
    }
   ],
   "source": [
    "dfContentPivot.shape"
   ]
  },
  {
   "cell_type": "code",
   "execution_count": 787,
   "metadata": {},
   "outputs": [],
   "source": [
    "mtrxContent = csr_matrix(dfContentPivot.values)"
   ]
  },
  {
   "cell_type": "code",
   "execution_count": 788,
   "metadata": {},
   "outputs": [
    {
     "data": {
      "text/plain": [
       "(79, 2843)"
      ]
     },
     "execution_count": 788,
     "metadata": {},
     "output_type": "execute_result"
    }
   ],
   "source": [
    "mtrxContent.shape"
   ]
  },
  {
   "cell_type": "code",
   "execution_count": 789,
   "metadata": {},
   "outputs": [],
   "source": [
    "model = NearestNeighbors(n_neighbors=5, metric='cosine')"
   ]
  },
  {
   "cell_type": "code",
   "execution_count": 790,
   "metadata": {},
   "outputs": [
    {
     "data": {
      "text/plain": [
       "NearestNeighbors(metric='cosine')"
      ]
     },
     "execution_count": 790,
     "metadata": {},
     "output_type": "execute_result"
    }
   ],
   "source": [
    "model.fit(mtrxContent)"
   ]
  },
  {
   "cell_type": "code",
   "execution_count": 791,
   "metadata": {},
   "outputs": [
    {
     "data": {
      "text/html": [
       "<div>\n",
       "<style scoped>\n",
       "    .dataframe tbody tr th:only-of-type {\n",
       "        vertical-align: middle;\n",
       "    }\n",
       "\n",
       "    .dataframe tbody tr th {\n",
       "        vertical-align: top;\n",
       "    }\n",
       "\n",
       "    .dataframe thead th {\n",
       "        text-align: right;\n",
       "    }\n",
       "</style>\n",
       "<table border=\"1\" class=\"dataframe\">\n",
       "  <thead>\n",
       "    <tr style=\"text-align: right;\">\n",
       "      <th>CustomerId</th>\n",
       "      <th>02ABXKI4QM</th>\n",
       "      <th>02CX3T7MPG</th>\n",
       "      <th>02OMWQVGIT</th>\n",
       "      <th>039T4HVE87</th>\n",
       "      <th>03PE5QXRYK</th>\n",
       "      <th>04H9R1TO2A</th>\n",
       "      <th>04SYRO1CFL</th>\n",
       "      <th>05CO7ZDMLA</th>\n",
       "      <th>06HA8GM4CS</th>\n",
       "      <th>06RL1ZIQ2Y</th>\n",
       "      <th>...</th>\n",
       "      <th>ZT19NEWCMP</th>\n",
       "      <th>ZTGKFB7LJP</th>\n",
       "      <th>ZTL0XEAD19</th>\n",
       "      <th>ZUIX07NPT9</th>\n",
       "      <th>ZVCK5TADF3</th>\n",
       "      <th>ZW792VMIYA</th>\n",
       "      <th>ZW9U0R125N</th>\n",
       "      <th>ZX8K2WH1N3</th>\n",
       "      <th>ZYO1X7DGUE</th>\n",
       "      <th>ZYTUBVG5PQ</th>\n",
       "    </tr>\n",
       "    <tr>\n",
       "      <th>Product</th>\n",
       "      <th></th>\n",
       "      <th></th>\n",
       "      <th></th>\n",
       "      <th></th>\n",
       "      <th></th>\n",
       "      <th></th>\n",
       "      <th></th>\n",
       "      <th></th>\n",
       "      <th></th>\n",
       "      <th></th>\n",
       "      <th></th>\n",
       "      <th></th>\n",
       "      <th></th>\n",
       "      <th></th>\n",
       "      <th></th>\n",
       "      <th></th>\n",
       "      <th></th>\n",
       "      <th></th>\n",
       "      <th></th>\n",
       "      <th></th>\n",
       "      <th></th>\n",
       "    </tr>\n",
       "  </thead>\n",
       "  <tbody>\n",
       "    <tr>\n",
       "      <th>alexa</th>\n",
       "      <td>0.0</td>\n",
       "      <td>0.0</td>\n",
       "      <td>0.0</td>\n",
       "      <td>0.0</td>\n",
       "      <td>0.0</td>\n",
       "      <td>0.0</td>\n",
       "      <td>0.0</td>\n",
       "      <td>1.0</td>\n",
       "      <td>0.0</td>\n",
       "      <td>0.0</td>\n",
       "      <td>...</td>\n",
       "      <td>0.0</td>\n",
       "      <td>0.0</td>\n",
       "      <td>0.0</td>\n",
       "      <td>1.0</td>\n",
       "      <td>0.0</td>\n",
       "      <td>0.0</td>\n",
       "      <td>0.0</td>\n",
       "      <td>0.0</td>\n",
       "      <td>0.0</td>\n",
       "      <td>0.0</td>\n",
       "    </tr>\n",
       "  </tbody>\n",
       "</table>\n",
       "<p>1 rows × 2843 columns</p>\n",
       "</div>"
      ],
      "text/plain": [
       "CustomerId  02ABXKI4QM  02CX3T7MPG  02OMWQVGIT  039T4HVE87  03PE5QXRYK  \\\n",
       "Product                                                                  \n",
       "alexa              0.0         0.0         0.0         0.0         0.0   \n",
       "\n",
       "CustomerId  04H9R1TO2A  04SYRO1CFL  05CO7ZDMLA  06HA8GM4CS  06RL1ZIQ2Y  ...  \\\n",
       "Product                                                                 ...   \n",
       "alexa              0.0         0.0         1.0         0.0         0.0  ...   \n",
       "\n",
       "CustomerId  ZT19NEWCMP  ZTGKFB7LJP  ZTL0XEAD19  ZUIX07NPT9  ZVCK5TADF3  \\\n",
       "Product                                                                  \n",
       "alexa              0.0         0.0         0.0         1.0         0.0   \n",
       "\n",
       "CustomerId  ZW792VMIYA  ZW9U0R125N  ZX8K2WH1N3  ZYO1X7DGUE  ZYTUBVG5PQ  \n",
       "Product                                                                 \n",
       "alexa              0.0         0.0         0.0         0.0         0.0  \n",
       "\n",
       "[1 rows x 2843 columns]"
      ]
     },
     "execution_count": 791,
     "metadata": {},
     "output_type": "execute_result"
    }
   ],
   "source": [
    "dfContentPivot[dfContentPivot.index == 'alexa']"
   ]
  },
  {
   "cell_type": "code",
   "execution_count": 894,
   "metadata": {},
   "outputs": [],
   "source": [
    "def kmeansContentRecos(PRODUCT='alexa', N_NEIGHBOURS=10):\n",
    "    \n",
    "    distances, indices = model.kneighbors( dfContentPivot[dfContentPivot.index == PRODUCT].values.reshape(1,-1),\\\n",
    "                                          n_neighbors=10)\n",
    "    nearestProducts = []\n",
    "    for i in range(0, len(distances.flatten())):\n",
    "        if i == 0:\n",
    "            print(f\"Nearest Neighbours of Product : {dfContentPivot.index[indices.flatten()[i]]} \")\n",
    "        else:\n",
    "            product = dfContentPivot.index[indices.flatten()[i]]\n",
    "            productDistance = distances.flatten()[i]\n",
    "            print('{0}: Product={1}, with similarity of {2}%'.format(i, product, round((1-productDistance)*100, 4)))\n",
    "\n",
    "            nearestProducts.append(product)\n",
    "\n"
   ]
  },
  {
   "cell_type": "code",
   "execution_count": 895,
   "metadata": {},
   "outputs": [
    {
     "name": "stdout",
     "output_type": "stream",
     "text": [
      "Nearest Neighbours of Product : alexa \n",
      "1: Product=usbstick, with similarity of 26.9431%\n",
      "2: Product=hotstarvoucher, with similarity of 23.9389%\n",
      "3: Product=menssuit, with similarity of 23.874%\n",
      "4: Product=tablet, with similarity of 23.7533%\n",
      "5: Product=smartlights, with similarity of 23.6016%\n",
      "6: Product=hometheatre, with similarity of 23.4458%\n",
      "7: Product=hotelmarriotgiftcard, with similarity of 23.3042%\n",
      "8: Product=metalfurniture, with similarity of 22.887%\n",
      "9: Product=shavingcream, with similarity of 22.8034%\n"
     ]
    }
   ],
   "source": [
    "kmeansContentRecos()"
   ]
  },
  {
   "cell_type": "code",
   "execution_count": 891,
   "metadata": {},
   "outputs": [
    {
     "name": "stdout",
     "output_type": "stream",
     "text": [
      "\n",
      "If customer is looking for product='cleartripvoucher' , we recommend ... \n",
      "\n",
      "Nearest Neighbours of Product : cleartripvoucher \n",
      "1: Product=makemytripvoucher, with similarity of 25.9411%\n",
      "2: Product=smartlights, with similarity of 23.9805%\n",
      "3: Product=goldjewelley, with similarity of 23.8965%\n",
      "4: Product=luxurywatch, with similarity of 23.6955%\n",
      "5: Product=ballpen, with similarity of 23.5425%\n",
      "6: Product=shirt, with similarity of 23.4528%\n",
      "7: Product=usbcable, with similarity of 23.1768%\n",
      "8: Product=saree, with similarity of 23.0118%\n",
      "9: Product=powerbank, with similarity of 22.9982%\n",
      "\n",
      "If customer is looking for product='cleartripvoucher' , we recommend ... \n",
      "\n",
      "Nearest Neighbours of Product : cleartripvoucher \n",
      "1: Product=makemytripvoucher, with similarity of 25.9411%\n",
      "2: Product=smartlights, with similarity of 23.9805%\n",
      "3: Product=goldjewelley, with similarity of 23.8965%\n",
      "4: Product=luxurywatch, with similarity of 23.6955%\n",
      "5: Product=ballpen, with similarity of 23.5425%\n",
      "6: Product=shirt, with similarity of 23.4528%\n",
      "7: Product=usbcable, with similarity of 23.1768%\n",
      "8: Product=saree, with similarity of 23.0118%\n",
      "9: Product=powerbank, with similarity of 22.9982%\n",
      "\n",
      "If customer is looking for product='hotstarvoucher' , we recommend ... \n",
      "\n",
      "Nearest Neighbours of Product : hotstarvoucher \n",
      "1: Product=usbstick, with similarity of 26.4595%\n",
      "2: Product=vedantugiftcard, with similarity of 24.2467%\n",
      "3: Product=alexa, with similarity of 23.9389%\n",
      "4: Product=monitors, with similarity of 23.6102%\n",
      "5: Product=bookmyshowgiftcard, with similarity of 23.5967%\n",
      "6: Product=shavingcream, with similarity of 23.2557%\n",
      "7: Product=googlehome, with similarity of 22.977%\n",
      "8: Product=diamondjewellery, with similarity of 22.768%\n",
      "9: Product=watch, with similarity of 22.7183%\n",
      "\n",
      "If customer is looking for product='television' , we recommend ... \n",
      "\n",
      "Nearest Neighbours of Product : television \n",
      "1: Product=usbstick, with similarity of 26.5797%\n",
      "2: Product=books, with similarity of 24.5746%\n",
      "3: Product=agodavoucher, with similarity of 23.318%\n",
      "4: Product=diamondjewellery, with similarity of 23.2283%\n",
      "5: Product=bookmyshowgiftcard, with similarity of 23.1106%\n",
      "6: Product=formalshoes, with similarity of 22.725%\n",
      "7: Product=travellersbag, with similarity of 22.7163%\n",
      "8: Product=router, with similarity of 22.5328%\n",
      "9: Product=laptop, with similarity of 22.3766%\n",
      "\n",
      "If customer is looking for product='vootvoucher' , we recommend ... \n",
      "\n",
      "Nearest Neighbours of Product : vootvoucher \n",
      "1: Product=usbstick, with similarity of 25.6921%\n",
      "2: Product=woodfurniture, with similarity of 25.3529%\n",
      "3: Product=printer, with similarity of 25.2039%\n",
      "4: Product=menssuit, with similarity of 25.1901%\n",
      "5: Product=brief, with similarity of 25.1222%\n",
      "6: Product=shavingcream, with similarity of 24.0996%\n",
      "7: Product=bharatpetroleumvoucher, with similarity of 23.5285%\n",
      "8: Product=lights, with similarity of 23.5268%\n",
      "9: Product=vedantugiftcard, with similarity of 23.3358%\n",
      "\n",
      "If customer is looking for product='rummycirclegiftcard' , we recommend ... \n",
      "\n",
      "Nearest Neighbours of Product : rummycirclegiftcard \n",
      "1: Product=usbstick, with similarity of 26.6651%\n",
      "2: Product=jeans, with similarity of 24.3436%\n",
      "3: Product=casualshoes, with similarity of 23.5815%\n",
      "4: Product=router, with similarity of 23.5076%\n",
      "5: Product=metalfurniture, with similarity of 23.4705%\n",
      "6: Product=handbag, with similarity of 23.1635%\n",
      "7: Product=hometheatre, with similarity of 22.4568%\n",
      "8: Product=vest, with similarity of 22.3405%\n",
      "9: Product=ubercashcard, with similarity of 22.2223%\n",
      "\n",
      "If customer is looking for product='sonylivvoucher' , we recommend ... \n",
      "\n",
      "Nearest Neighbours of Product : sonylivvoucher \n",
      "1: Product=casualshoes, with similarity of 24.6194%\n",
      "2: Product=zomatocashcard, with similarity of 24.291%\n",
      "3: Product=usbstick, with similarity of 24.164%\n",
      "4: Product=perfume, with similarity of 23.4123%\n",
      "5: Product=cultfitvoucher, with similarity of 23.1827%\n",
      "6: Product=irctcvoucher, with similarity of 22.5889%\n",
      "7: Product=trouser, with similarity of 22.4392%\n",
      "8: Product=vootvoucher, with similarity of 22.4152%\n",
      "9: Product=diamondjewellery, with similarity of 22.403%\n",
      "\n",
      "If customer is looking for product='brief' , we recommend ... \n",
      "\n",
      "Nearest Neighbours of Product : brief \n",
      "1: Product=vootvoucher, with similarity of 25.1222%\n",
      "2: Product=cellphone, with similarity of 24.8337%\n",
      "3: Product=usbstick, with similarity of 24.3154%\n",
      "4: Product=jeans, with similarity of 24.1536%\n",
      "5: Product=fancylights, with similarity of 23.8092%\n",
      "6: Product=trouser, with similarity of 23.805%\n",
      "7: Product=perfume, with similarity of 23.4808%\n",
      "8: Product=watch, with similarity of 23.0946%\n",
      "9: Product=tataskygiftcard, with similarity of 23.0723%\n",
      "\n",
      "If customer is looking for product='hoteltajgiftcard' , we recommend ... \n",
      "\n",
      "Nearest Neighbours of Product : hoteltajgiftcard \n",
      "1: Product=usbstick, with similarity of 24.4484%\n",
      "2: Product=jeans, with similarity of 23.6589%\n",
      "3: Product=monitors, with similarity of 23.5482%\n",
      "4: Product=olacashcard, with similarity of 23.3712%\n",
      "5: Product=saree, with similarity of 23.3167%\n",
      "6: Product=sunglasses, with similarity of 22.9619%\n",
      "7: Product=agodavoucher, with similarity of 22.9596%\n",
      "8: Product=woodfurniture, with similarity of 22.7802%\n",
      "9: Product=books, with similarity of 22.6219%\n",
      "\n",
      "If customer is looking for product='router' , we recommend ... \n",
      "\n",
      "Nearest Neighbours of Product : router \n",
      "1: Product=kindle, with similarity of 24.5841%\n",
      "2: Product=usbstick, with similarity of 24.4835%\n",
      "3: Product=makemytripvoucher, with similarity of 23.8714%\n",
      "4: Product=rummycirclegiftcard, with similarity of 23.5076%\n",
      "5: Product=irctcvoucher, with similarity of 22.9658%\n",
      "6: Product=television, with similarity of 22.5328%\n",
      "7: Product=menssuit, with similarity of 22.3058%\n",
      "8: Product=monitors, with similarity of 22.2724%\n",
      "9: Product=zomatocashcard, with similarity of 22.1162%\n"
     ]
    }
   ],
   "source": [
    "# lets select some random products\n",
    "\n",
    "numProducts = len(dfProducts)\n",
    "\n",
    "for _ in range(10):\n",
    "    \n",
    "    randomIdx = np.random.choice(numProducts)\n",
    "    \n",
    "    product = dfProducts.Product[randomIdx]\n",
    "    print(f\"\\nIf customer is looking for {product=} , we recommend ... \\n\")\n",
    "    kmeansContentRecos(PRODUCT=product)\n",
    "    \n",
    "    "
   ]
  },
  {
   "cell_type": "code",
   "execution_count": null,
   "metadata": {},
   "outputs": [],
   "source": []
  },
  {
   "cell_type": "code",
   "execution_count": null,
   "metadata": {},
   "outputs": [],
   "source": []
  },
  {
   "cell_type": "code",
   "execution_count": null,
   "metadata": {},
   "outputs": [],
   "source": []
  },
  {
   "cell_type": "code",
   "execution_count": null,
   "metadata": {},
   "outputs": [],
   "source": []
  },
  {
   "cell_type": "code",
   "execution_count": null,
   "metadata": {},
   "outputs": [],
   "source": []
  },
  {
   "cell_type": "code",
   "execution_count": null,
   "metadata": {},
   "outputs": [],
   "source": []
  },
  {
   "cell_type": "code",
   "execution_count": null,
   "metadata": {},
   "outputs": [],
   "source": []
  }
 ],
 "metadata": {
  "kernelspec": {
   "display_name": "Python 3",
   "language": "python",
   "name": "python3"
  },
  "language_info": {
   "codemirror_mode": {
    "name": "ipython",
    "version": 3
   },
   "file_extension": ".py",
   "mimetype": "text/x-python",
   "name": "python",
   "nbconvert_exporter": "python",
   "pygments_lexer": "ipython3",
   "version": "3.8.5"
  }
 },
 "nbformat": 4,
 "nbformat_minor": 4
}
